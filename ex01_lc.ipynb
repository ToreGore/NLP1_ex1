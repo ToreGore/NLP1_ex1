{
  "nbformat": 4,
  "nbformat_minor": 0,
  "metadata": {
    "colab": {
      "name": "ex01_lc.ipynb",
      "provenance": [],
      "collapsed_sections": []
    },
    "kernelspec": {
      "display_name": "Python 3",
      "language": "python",
      "name": "python3"
    },
    "language_info": {
      "codemirror_mode": {
        "name": "ipython",
        "version": 3
      },
      "file_extension": ".py",
      "mimetype": "text/x-python",
      "name": "python",
      "nbconvert_exporter": "python",
      "pygments_lexer": "ipython3",
      "version": "3.7.5"
    }
  },
  "cells": [
    {
      "cell_type": "markdown",
      "metadata": {
        "id": "AV_BlRrI6ktN"
      },
      "source": [
        "### Import libraries"
      ]
    },
    {
      "cell_type": "code",
      "metadata": {
        "id": "4Xmc6SxgZJeV"
      },
      "source": [
        "import csv\n",
        "import re\n",
        "import numpy as np\n",
        "import pandas as pd\n",
        "import matplotlib as mp\n",
        "import math as m"
      ],
      "execution_count": 1,
      "outputs": []
    },
    {
      "cell_type": "markdown",
      "metadata": {
        "id": "PXPovnbq6x1v"
      },
      "source": [
        "### Download the training and test data set"
      ]
    },
    {
      "cell_type": "code",
      "metadata": {
        "id": "hTjqaLaj63QW"
      },
      "source": [
        "url_train_dev = 'https://docs.google.com/spreadsheets/d/e/2PACX-1vTOZ2rC82rhNsJduoyKYTsVeH6ukd7Bpxvxn_afOibn3R-eadZGXu82eCU9IRpl4CK_gefEGsYrA_oM/pub?gid=1863430984&single=true&output=tsv'\n",
        "url_test = 'https://docs.google.com/spreadsheets/d/e/2PACX-1vT-KNR9nuYatLkSbzSRgpz6Ku1n4TN4w6kKmFLkA6QJHTfQzmX0puBsLF7PAAQJQAxUpgruDd_RRgK7/pub?gid=417546901&single=true&output=tsv'"
      ],
      "execution_count": 2,
      "outputs": []
    },
    {
      "cell_type": "code",
      "metadata": {
        "id": "c921Id9067W3"
      },
      "source": [
        "from io import StringIO\n",
        "import requests\n",
        "\n",
        "def load_dataset(url):\n",
        "    r = requests.get(url)\n",
        "    data = r.content.decode('utf8')\n",
        "    df = pd.read_csv(StringIO(data), sep='\\t')\n",
        "    df.columns = ['tweet', 'label']\n",
        "    return df"
      ],
      "execution_count": 3,
      "outputs": []
    },
    {
      "cell_type": "code",
      "metadata": {
        "id": "_dYsSdtE7AT8"
      },
      "source": [
        "df_train_dev = load_dataset(url_train_dev)\n",
        "df_test = load_dataset(url_test)"
      ],
      "execution_count": 4,
      "outputs": []
    },
    {
      "cell_type": "markdown",
      "metadata": {
        "id": "NolRqOsX-oGz"
      },
      "source": [
        "### 1. Exploratory Data Analysis (EDA)\n",
        "\n",
        "In the next section, I perform a brief exploratory data analysis"
      ]
    },
    {
      "cell_type": "code",
      "metadata": {
        "id": "T4K9C5jq_ECz",
        "outputId": "eb6f3085-97cc-4b24-9641-c08ae8ecc183",
        "colab": {
          "base_uri": "https://localhost:8080/",
          "height": 50
        }
      },
      "source": [
        "print(\"Training set shape \", df_train_dev.shape)\n",
        "print(\"Test set shape \", df_test.shape)"
      ],
      "execution_count": 5,
      "outputs": [
        {
          "output_type": "stream",
          "text": [
            "Training set shape  (52675, 2)\n",
            "Test set shape  (13279, 2)\n"
          ],
          "name": "stdout"
        }
      ]
    },
    {
      "cell_type": "markdown",
      "metadata": {
        "id": "8LBEmfvZvz1v"
      },
      "source": [
        "##1.1 Type of data"
      ]
    },
    {
      "cell_type": "code",
      "metadata": {
        "id": "3i7svz_9ACVK",
        "outputId": "126c0f7b-577c-41cb-e64d-1270e2cb7195",
        "colab": {
          "base_uri": "https://localhost:8080/",
          "height": 195
        }
      },
      "source": [
        "df_train_dev.head()"
      ],
      "execution_count": 6,
      "outputs": [
        {
          "output_type": "execute_result",
          "data": {
            "text/html": [
              "<div>\n",
              "<style scoped>\n",
              "    .dataframe tbody tr th:only-of-type {\n",
              "        vertical-align: middle;\n",
              "    }\n",
              "\n",
              "    .dataframe tbody tr th {\n",
              "        vertical-align: top;\n",
              "    }\n",
              "\n",
              "    .dataframe thead th {\n",
              "        text-align: right;\n",
              "    }\n",
              "</style>\n",
              "<table border=\"1\" class=\"dataframe\">\n",
              "  <thead>\n",
              "    <tr style=\"text-align: right;\">\n",
              "      <th></th>\n",
              "      <th>tweet</th>\n",
              "      <th>label</th>\n",
              "    </tr>\n",
              "  </thead>\n",
              "  <tbody>\n",
              "    <tr>\n",
              "      <th>0</th>\n",
              "      <td>يا من أناديها ويخنقني البكاء  ويكاد صمت الدمع ...</td>\n",
              "      <td>ar</td>\n",
              "    </tr>\n",
              "    <tr>\n",
              "      <th>1</th>\n",
              "      <td>فيه فرق بين اهل غزة اللى مطحونين من ناحيتين وب...</td>\n",
              "      <td>ar</td>\n",
              "    </tr>\n",
              "    <tr>\n",
              "      <th>2</th>\n",
              "      <td>ﻋﻦ ﺍﻟﻠﺤﻈﺔ اﻟﺤﻠﻮﺓﺓ ﺍﻟﻠﻲ ﺑﺘﻐﻤﺾ ﻓﻴﻬﺎ ﻋﻴﻨﻴﻚ ﺑﺘﻔﻜﺮ ...</td>\n",
              "      <td>ar</td>\n",
              "    </tr>\n",
              "    <tr>\n",
              "      <th>3</th>\n",
              "      <td>يا ابو سلو عرفتني</td>\n",
              "      <td>ar</td>\n",
              "    </tr>\n",
              "    <tr>\n",
              "      <th>4</th>\n",
              "      <td>ب50 ريال أكفل معتمر في رمضان ، ولك بإذن الله م...</td>\n",
              "      <td>ar</td>\n",
              "    </tr>\n",
              "  </tbody>\n",
              "</table>\n",
              "</div>"
            ],
            "text/plain": [
              "                                               tweet label\n",
              "0  يا من أناديها ويخنقني البكاء  ويكاد صمت الدمع ...    ar\n",
              "1  فيه فرق بين اهل غزة اللى مطحونين من ناحيتين وب...    ar\n",
              "2  ﻋﻦ ﺍﻟﻠﺤﻈﺔ اﻟﺤﻠﻮﺓﺓ ﺍﻟﻠﻲ ﺑﺘﻐﻤﺾ ﻓﻴﻬﺎ ﻋﻴﻨﻴﻚ ﺑﺘﻔﻜﺮ ...    ar\n",
              "3                                  يا ابو سلو عرفتني    ar\n",
              "4  ب50 ريال أكفل معتمر في رمضان ، ولك بإذن الله م...    ar"
            ]
          },
          "metadata": {
            "tags": []
          },
          "execution_count": 6
        }
      ]
    },
    {
      "cell_type": "markdown",
      "metadata": {
        "id": "9LW6QJrCGUqu"
      },
      "source": [
        "**Observation**:\n",
        " \n",
        "\n",
        "1.   The data set contains links which might add noise to the signal because many letters in the link are independent of the language (i.e. \"http://\"). Especially the fact that links add latin characters to tweets which are not written in latin characters could be an issue. Hence, I will test if removing hyperlinks improves the model accuracy \n",
        "2.   Numbers could also be excluded as they are not language specific\n",
        "\n",
        "\n",
        "\n"
      ]
    },
    {
      "cell_type": "markdown",
      "metadata": {
        "id": "w_HSvJ-yvoCS"
      },
      "source": [
        "##### 1.1 Number of Tweets per language"
      ]
    },
    {
      "cell_type": "code",
      "metadata": {
        "id": "Rd23769VAUzQ",
        "outputId": "25935280-0caa-47e2-88b0-e9884eae65e9",
        "colab": {
          "base_uri": "https://localhost:8080/",
          "height": 431
        }
      },
      "source": [
        "df_train_dev_grouped = df_train_dev.groupby(by = [\"label\"]).count().sort_values(by= [\"tweet\"], ascending = False)\n",
        "unique_labels = df_train_dev.label.unique()\n",
        "df_train_dev_grouped"
      ],
      "execution_count": 7,
      "outputs": [
        {
          "output_type": "execute_result",
          "data": {
            "text/html": [
              "<div>\n",
              "<style scoped>\n",
              "    .dataframe tbody tr th:only-of-type {\n",
              "        vertical-align: middle;\n",
              "    }\n",
              "\n",
              "    .dataframe tbody tr th {\n",
              "        vertical-align: top;\n",
              "    }\n",
              "\n",
              "    .dataframe thead th {\n",
              "        text-align: right;\n",
              "    }\n",
              "</style>\n",
              "<table border=\"1\" class=\"dataframe\">\n",
              "  <thead>\n",
              "    <tr style=\"text-align: right;\">\n",
              "      <th></th>\n",
              "      <th>tweet</th>\n",
              "    </tr>\n",
              "    <tr>\n",
              "      <th>label</th>\n",
              "      <th></th>\n",
              "    </tr>\n",
              "  </thead>\n",
              "  <tbody>\n",
              "    <tr>\n",
              "      <th>en</th>\n",
              "      <td>18508</td>\n",
              "    </tr>\n",
              "    <tr>\n",
              "      <th>ja</th>\n",
              "      <td>10421</td>\n",
              "    </tr>\n",
              "    <tr>\n",
              "      <th>es</th>\n",
              "      <td>5930</td>\n",
              "    </tr>\n",
              "    <tr>\n",
              "      <th>und</th>\n",
              "      <td>4537</td>\n",
              "    </tr>\n",
              "    <tr>\n",
              "      <th>id</th>\n",
              "      <td>3006</td>\n",
              "    </tr>\n",
              "    <tr>\n",
              "      <th>...</th>\n",
              "      <td>...</td>\n",
              "    </tr>\n",
              "    <tr>\n",
              "      <th>tn</th>\n",
              "      <td>1</td>\n",
              "    </tr>\n",
              "    <tr>\n",
              "      <th>dv</th>\n",
              "      <td>1</td>\n",
              "    </tr>\n",
              "    <tr>\n",
              "      <th>ta_LATN</th>\n",
              "      <td>1</td>\n",
              "    </tr>\n",
              "    <tr>\n",
              "      <th>si</th>\n",
              "      <td>1</td>\n",
              "    </tr>\n",
              "    <tr>\n",
              "      <th>ko_LATN</th>\n",
              "      <td>1</td>\n",
              "    </tr>\n",
              "  </tbody>\n",
              "</table>\n",
              "<p>69 rows × 1 columns</p>\n",
              "</div>"
            ],
            "text/plain": [
              "         tweet\n",
              "label         \n",
              "en       18508\n",
              "ja       10421\n",
              "es        5930\n",
              "und       4537\n",
              "id        3006\n",
              "...        ...\n",
              "tn           1\n",
              "dv           1\n",
              "ta_LATN      1\n",
              "si           1\n",
              "ko_LATN      1\n",
              "\n",
              "[69 rows x 1 columns]"
            ]
          },
          "metadata": {
            "tags": []
          },
          "execution_count": 7
        }
      ]
    },
    {
      "cell_type": "markdown",
      "metadata": {
        "id": "jhD1eZXkn6Tx",
        "outputId": "56bed8d7-158a-443e-a524-505937b53702"
      },
      "source": [
        "### Distribution analysis\n",
        "\n",
        "1) Mean <br>\n",
        "2) Median <br>\n",
        "3) Variance <br>\n",
        "4) Std. Deviation <br>\n"
      ]
    },
    {
      "cell_type": "code",
      "metadata": {
        "id": "9CBUfxgaOy8R"
      },
      "source": [
        "df_len = df_train_dev.label.count()\n",
        "df_train_freq = list(df_train_dev.label.value_counts().to_dict().items())"
      ],
      "execution_count": 8,
      "outputs": []
    },
    {
      "cell_type": "code",
      "metadata": {
        "id": "NMvQA4ylOy8T"
      },
      "source": [
        "mean = np.mean([x[1] for x in df_train_freq])\n",
        "median = np.median([x[1] for x in df_train_freq])\n",
        "variance = np.var([x[1] for x in df_train_freq])\n",
        "stdev = m.sqrt(variance)"
      ],
      "execution_count": 9,
      "outputs": []
    },
    {
      "cell_type": "code",
      "metadata": {
        "id": "ftwTy6-MOy8W",
        "outputId": "e114a9d5-b0e1-4d6f-d385-0f0816cc50ca",
        "colab": {
          "base_uri": "https://localhost:8080/",
          "height": 84
        }
      },
      "source": [
        "print(\"Mean: {0}\\nMedian: {1}\".format(mean, median))\n",
        "print(\"Variance: {0}\\nStdev: {1}\".format(variance, stdev))"
      ],
      "execution_count": 10,
      "outputs": [
        {
          "output_type": "stream",
          "text": [
            "Mean: 763.4057971014493\n",
            "Median: 11.0\n",
            "Variance: 7128528.849821464\n",
            "Stdev: 2669.9304953165847\n"
          ],
          "name": "stdout"
        }
      ]
    },
    {
      "cell_type": "markdown",
      "metadata": {
        "id": "ws4U7KsSLb_I"
      },
      "source": [
        "**Observation**:\n",
        "\n",
        "There are languanges with very many tweets and some languages with only one tweet. The small sample size for some languages will make it difficult for the model to identify them well."
      ]
    },
    {
      "cell_type": "markdown",
      "metadata": {
        "id": "cjpadzRYv9vl"
      },
      "source": [
        "##### 1.3 Average and median tweet length by language"
      ]
    },
    {
      "cell_type": "code",
      "metadata": {
        "id": "GMO5zbBIvmgM"
      },
      "source": [
        "def fun(x):\n",
        "    df = {}\n",
        "    df['mean_character_count'] = x['tweet'].str.len().mean()\n",
        "    df['mean_word_count'] = x['tweet'].str.split().str.len().mean()\n",
        "    return(pd.Series(df, index=['mean_character_count', 'mean_word_count']))"
      ],
      "execution_count": 11,
      "outputs": []
    },
    {
      "cell_type": "code",
      "metadata": {
        "id": "ypP2dpkqOy8b",
        "outputId": "3d652255-1711-41f4-d8ee-aa67c178a999",
        "colab": {
          "base_uri": "https://localhost:8080/",
          "height": 431
        }
      },
      "source": [
        "df_train_dev_agg = df_train_dev.groupby(by=\"label\").apply(fun)\n",
        "df_train_dev_agg"
      ],
      "execution_count": 12,
      "outputs": [
        {
          "output_type": "execute_result",
          "data": {
            "text/html": [
              "<div>\n",
              "<style scoped>\n",
              "    .dataframe tbody tr th:only-of-type {\n",
              "        vertical-align: middle;\n",
              "    }\n",
              "\n",
              "    .dataframe tbody tr th {\n",
              "        vertical-align: top;\n",
              "    }\n",
              "\n",
              "    .dataframe thead th {\n",
              "        text-align: right;\n",
              "    }\n",
              "</style>\n",
              "<table border=\"1\" class=\"dataframe\">\n",
              "  <thead>\n",
              "    <tr style=\"text-align: right;\">\n",
              "      <th></th>\n",
              "      <th>mean_character_count</th>\n",
              "      <th>mean_word_count</th>\n",
              "    </tr>\n",
              "    <tr>\n",
              "      <th>label</th>\n",
              "      <th></th>\n",
              "      <th></th>\n",
              "    </tr>\n",
              "  </thead>\n",
              "  <tbody>\n",
              "    <tr>\n",
              "      <th>ar</th>\n",
              "      <td>83.254206</td>\n",
              "      <td>13.231014</td>\n",
              "    </tr>\n",
              "    <tr>\n",
              "      <th>ar_LATN</th>\n",
              "      <td>33.583333</td>\n",
              "      <td>5.750000</td>\n",
              "    </tr>\n",
              "    <tr>\n",
              "      <th>az</th>\n",
              "      <td>110.000000</td>\n",
              "      <td>10.000000</td>\n",
              "    </tr>\n",
              "    <tr>\n",
              "      <th>bg</th>\n",
              "      <td>74.000000</td>\n",
              "      <td>10.500000</td>\n",
              "    </tr>\n",
              "    <tr>\n",
              "      <th>bn</th>\n",
              "      <td>100.750000</td>\n",
              "      <td>13.875000</td>\n",
              "    </tr>\n",
              "    <tr>\n",
              "      <th>...</th>\n",
              "      <td>...</td>\n",
              "      <td>...</td>\n",
              "    </tr>\n",
              "    <tr>\n",
              "      <th>vi</th>\n",
              "      <td>97.687500</td>\n",
              "      <td>19.250000</td>\n",
              "    </tr>\n",
              "    <tr>\n",
              "      <th>wo</th>\n",
              "      <td>72.000000</td>\n",
              "      <td>13.000000</td>\n",
              "    </tr>\n",
              "    <tr>\n",
              "      <th>xh</th>\n",
              "      <td>138.000000</td>\n",
              "      <td>16.000000</td>\n",
              "    </tr>\n",
              "    <tr>\n",
              "      <th>zh-CN</th>\n",
              "      <td>50.960000</td>\n",
              "      <td>3.200000</td>\n",
              "    </tr>\n",
              "    <tr>\n",
              "      <th>zh-TW</th>\n",
              "      <td>59.800000</td>\n",
              "      <td>6.500000</td>\n",
              "    </tr>\n",
              "  </tbody>\n",
              "</table>\n",
              "<p>69 rows × 2 columns</p>\n",
              "</div>"
            ],
            "text/plain": [
              "         mean_character_count  mean_word_count\n",
              "label                                         \n",
              "ar                  83.254206        13.231014\n",
              "ar_LATN             33.583333         5.750000\n",
              "az                 110.000000        10.000000\n",
              "bg                  74.000000        10.500000\n",
              "bn                 100.750000        13.875000\n",
              "...                       ...              ...\n",
              "vi                  97.687500        19.250000\n",
              "wo                  72.000000        13.000000\n",
              "xh                 138.000000        16.000000\n",
              "zh-CN               50.960000         3.200000\n",
              "zh-TW               59.800000         6.500000\n",
              "\n",
              "[69 rows x 2 columns]"
            ]
          },
          "metadata": {
            "tags": []
          },
          "execution_count": 12
        }
      ]
    },
    {
      "cell_type": "code",
      "metadata": {
        "id": "cO_ZzCh0qCHy",
        "outputId": "fd065346-89dc-4145-a93f-5fcdec2076cf",
        "colab": {
          "base_uri": "https://localhost:8080/",
          "height": 151
        }
      },
      "source": [
        "df_train_dev_agg.index.values"
      ],
      "execution_count": 13,
      "outputs": [
        {
          "output_type": "execute_result",
          "data": {
            "text/plain": [
              "array(['ar', 'ar_LATN', 'az', 'bg', 'bn', 'bs', 'ca', 'cs', 'cy', 'da',\n",
              "       'de', 'dv', 'el', 'en', 'es', 'et', 'fa', 'fi', 'fr', 'gl', 'ha',\n",
              "       'he', 'hi', 'hi-Latn', 'hr', 'ht', 'hu', 'hy', 'id', 'is', 'it',\n",
              "       'ja', 'ja_LATN', 'jv', 'km', 'ko', 'ko_LATN', 'ms', 'ne', 'nl',\n",
              "       'no', 'pl', 'ps', 'ps_LATN', 'pt', 'ro', 'ru', 'si', 'sl', 'sq',\n",
              "       'sr', 'su', 'sv', 'sw', 'ta', 'ta_LATN', 'th', 'tl', 'tn', 'tr',\n",
              "       'uk', 'und', 'ur', 'ur_LATN', 'vi', 'wo', 'xh', 'zh-CN', 'zh-TW'],\n",
              "      dtype=object)"
            ]
          },
          "metadata": {
            "tags": []
          },
          "execution_count": 13
        }
      ]
    },
    {
      "cell_type": "code",
      "metadata": {
        "id": "4HmjvY5BBvMU",
        "outputId": "21bdc6ca-3051-4e92-f09b-7335cf2a702c",
        "colab": {
          "base_uri": "https://localhost:8080/",
          "height": 312
        }
      },
      "source": [
        "import matplotlib.pyplot as plt\n",
        "\n",
        "plt.scatter(x= df_train_dev_agg['mean_character_count'], y= df_train_dev_agg['mean_word_count'])\n",
        "\n",
        "for i in range(len(df_train_dev_agg['mean_word_count'])):\n",
        "    t = (df_train_dev_agg.iloc[i]['mean_character_count'], df_train_dev_agg.iloc[i]['mean_word_count'])\n",
        "    plt.annotate(df_train_dev_agg.index.values[i], t, (t[0], t[1]+1))\n",
        "\n",
        "plt.xlabel(\"Average character count\")\n",
        "plt.ylabel(\"Average word count\")\n",
        "plt.title(\"Avg character count and avg word per tweet per language\")"
      ],
      "execution_count": 14,
      "outputs": [
        {
          "output_type": "execute_result",
          "data": {
            "text/plain": [
              "Text(0.5, 1.0, 'Avg character count and avg word per tweet per language')"
            ]
          },
          "metadata": {
            "tags": []
          },
          "execution_count": 14
        },
        {
          "output_type": "display_data",
          "data": {
            "image/png": "[encoded data removed]",
            "text/plain": [
              "<Figure size 432x288 with 1 Axes>"
            ]
          },
          "metadata": {
            "tags": [],
            "needs_background": "light"
          }
        }
      ]
    },
    {
      "cell_type": "markdown",
      "metadata": {
        "id": "q0CPVzEy-gCQ"
      },
      "source": [
        "**Observation**:\n",
        "\n",
        "Each point in the plot above represents a language label. <br>\n",
        "The points are laid out in 2D based on the average number of words and average number of characters per tweet. <br>\n",
        "It looks like, that one can discriminate between languages based on these metrices. <br>\n",
        "Otherwise, all points/languages would clump together. <br>\n",
        "Hence, I will add the average number of character and the average number of words as new features to the data set."
      ]
    },
    {
      "cell_type": "markdown",
      "metadata": {
        "id": "s-TnB9JUDbk3"
      },
      "source": [
        "### 2. Data preparation for training"
      ]
    },
    {
      "cell_type": "markdown",
      "metadata": {
        "id": "KHVofE7EOy8m"
      },
      "source": [
        "#### There could be unknown labels in the test set!\n",
        "#### Hence I create a new category \"unknown\" and add it to the train set & labels.\n",
        "#### This is how I ensure that the LabelEncoder can be applied to the test set."
      ]
    },
    {
      "cell_type": "code",
      "metadata": {
        "id": "d0COa59w_0kW"
      },
      "source": [
        "# finding languages with too few tweets\n",
        "\n",
        "dropped_lang = df_train_dev_grouped[df_train_dev_grouped[\"tweet\"] <= 10].index\n",
        "\n",
        "for i in range(len(df_train_dev)):\n",
        "    if df_train_dev.iloc[i][\"label\"] in dropped_lang:\n",
        "        df_train_dev.iloc[i][\"label\"] = \"und\"\n",
        "\n",
        "X_train = df_train_dev['tweet']\n",
        "y_train = df_train_dev['label']\n",
        "X_test = df_test['tweet']\n",
        "y_test = df_test['label']"
      ],
      "execution_count": 15,
      "outputs": []
    },
    {
      "cell_type": "code",
      "metadata": {
        "id": "kptPWUUEzPvp"
      },
      "source": [
        "# change any y_test labels which are not in x_test to category \"<unknown>\"\n",
        "unknown_labels = np.setdiff1d(y_test, y_train)\n",
        "\n",
        "i = 0\n",
        "for l in y_test:\n",
        "    for ul in unknown_labels:\n",
        "        if l == ul:\n",
        "            y_test[i] = \"und\"\n",
        "    i += 1"
      ],
      "execution_count": 16,
      "outputs": []
    },
    {
      "cell_type": "code",
      "metadata": {
        "id": "VOyCUSor0zQX",
        "outputId": "da58f31f-fb52-481f-fdbd-1970b54069aa",
        "colab": {
          "base_uri": "https://localhost:8080/",
          "height": 34
        }
      },
      "source": [
        "len(np.setdiff1d(y_test, y_train))"
      ],
      "execution_count": 17,
      "outputs": [
        {
          "output_type": "execute_result",
          "data": {
            "text/plain": [
              "0"
            ]
          },
          "metadata": {
            "tags": []
          },
          "execution_count": 17
        }
      ]
    },
    {
      "cell_type": "markdown",
      "metadata": {
        "id": "mH8c3hPgD7u7"
      },
      "source": [
        "### Vectorizing the data"
      ]
    },
    {
      "cell_type": "code",
      "metadata": {
        "id": "7VrHZHSROy8v"
      },
      "source": [
        "from sklearn.feature_extraction.text import CountVectorizer\n",
        "from sklearn.preprocessing import LabelEncoder\n",
        "from sklearn.preprocessing import StandardScaler"
      ],
      "execution_count": 18,
      "outputs": []
    },
    {
      "cell_type": "markdown",
      "metadata": {
        "id": "MXL7l5RqOy8x"
      },
      "source": [
        "#### Bigrams creation"
      ]
    },
    {
      "cell_type": "code",
      "metadata": {
        "id": "ZD4Qf17-Oy8y"
      },
      "source": [
        "bigram_vectorizer = CountVectorizer(ngram_range=(1, 2),\n",
        "                             token_pattern = r\"(?u)\\b\\w+\\b\", \n",
        "                             analyzer='char')\n",
        "\n",
        "X_train_counts = bigram_vectorizer.fit_transform(X_train)\n",
        "X_test_counts = bigram_vectorizer.transform(X_test)"
      ],
      "execution_count": 19,
      "outputs": []
    },
    {
      "cell_type": "markdown",
      "metadata": {
        "id": "rv_h9hVBOy80"
      },
      "source": [
        "#### Standardize counts, using \"with_mean=False\" so I can apply to sparse matrix"
      ]
    },
    {
      "cell_type": "code",
      "metadata": {
        "id": "TV1P0MoeOy80"
      },
      "source": [
        "stdsc = StandardScaler(with_mean=False)\n",
        "X_train_std = stdsc.fit_transform(X_train_counts)\n",
        "X_test_std = stdsc.transform(X_test_counts)"
      ],
      "execution_count": 20,
      "outputs": []
    },
    {
      "cell_type": "markdown",
      "metadata": {
        "id": "_HjaG3tRD-6M"
      },
      "source": [
        "\"\"\"compute TfDif for training and test set\n",
        "tfidf_tranformer = TfidfTransformer(smooth_idf=True).fit(X_train_counts)\n",
        "X_train_tfidf = tfidf_tranformer.transform(X_train_counts)\n",
        "X_test_tfidf = tfidf_tranformer.transform(X_train_counts)\"\"\""
      ]
    },
    {
      "cell_type": "markdown",
      "metadata": {
        "id": "Nzw94OV6Oy83"
      },
      "source": [
        "#### Encode labels"
      ]
    },
    {
      "cell_type": "code",
      "metadata": {
        "id": "mtXC4n_ZOy83"
      },
      "source": [
        "label_encoder = LabelEncoder()\n",
        "y_train_enc = label_encoder.fit_transform(y_train)\n",
        "y_test_enc = label_encoder.transform(y_test)"
      ],
      "execution_count": 21,
      "outputs": []
    },
    {
      "cell_type": "markdown",
      "metadata": {
        "id": "ZChahwET1qNS"
      },
      "source": [
        "#### Train model\n",
        "Training SGDClassifier and Multinomial Naïve Bayes\n"
      ]
    },
    {
      "cell_type": "code",
      "metadata": {
        "id": "Da0XFpsCOs2j",
        "outputId": "a9aaa473-8757-46a0-ce3e-a8e52516d181",
        "colab": {
          "base_uri": "https://localhost:8080/",
          "height": 118
        }
      },
      "source": [
        "from sklearn.linear_model import SGDClassifier\n",
        "\n",
        "sgd_classifier = SGDClassifier()\n",
        "\n",
        "sgd_classifier.fit(X_train_std, y_train_enc)"
      ],
      "execution_count": 22,
      "outputs": [
        {
          "output_type": "execute_result",
          "data": {
            "text/plain": [
              "SGDClassifier(alpha=0.0001, average=False, class_weight=None,\n",
              "              early_stopping=False, epsilon=0.1, eta0=0.0, fit_intercept=True,\n",
              "              l1_ratio=0.15, learning_rate='optimal', loss='hinge',\n",
              "              max_iter=1000, n_iter_no_change=5, n_jobs=None, penalty='l2',\n",
              "              power_t=0.5, random_state=None, shuffle=True, tol=0.001,\n",
              "              validation_fraction=0.1, verbose=0, warm_start=False)"
            ]
          },
          "metadata": {
            "tags": []
          },
          "execution_count": 22
        }
      ]
    },
    {
      "cell_type": "code",
      "metadata": {
        "id": "U7diMyOP7kj9",
        "outputId": "ac49ac5c-1cf9-4769-9e5f-ef6dbfb5b470",
        "colab": {
          "base_uri": "https://localhost:8080/",
          "height": 34
        }
      },
      "source": [
        "from sklearn.metrics import accuracy_score\n",
        "\n",
        "predictions_sgd = sgd_classifier.predict(X_test_std)\n",
        "\n",
        "accuracy_score(y_test_enc, predictions_sgd)"
      ],
      "execution_count": 23,
      "outputs": [
        {
          "output_type": "execute_result",
          "data": {
            "text/plain": [
              "0.8401988101513668"
            ]
          },
          "metadata": {
            "tags": []
          },
          "execution_count": 23
        }
      ]
    },
    {
      "cell_type": "code",
      "metadata": {
        "id": "scaKV_Yk9_fe",
        "outputId": "4ad3f4c4-7226-4dfe-fd3c-1b5682a03d42",
        "colab": {
          "base_uri": "https://localhost:8080/",
          "height": 34
        }
      },
      "source": [
        "from sklearn.naive_bayes import MultinomialNB\n",
        "\n",
        "mnb_classifier = MultinomialNB()\n",
        "\n",
        "mnb_classifier.fit(X_train_std, y_train_enc)"
      ],
      "execution_count": 24,
      "outputs": [
        {
          "output_type": "execute_result",
          "data": {
            "text/plain": [
              "MultinomialNB(alpha=1.0, class_prior=None, fit_prior=True)"
            ]
          },
          "metadata": {
            "tags": []
          },
          "execution_count": 24
        }
      ]
    },
    {
      "cell_type": "code",
      "metadata": {
        "id": "Wf-ZV7Vk_DQe",
        "outputId": "efb91dd7-f8f5-4f18-c3b6-78f6be10c431",
        "colab": {
          "base_uri": "https://localhost:8080/",
          "height": 34
        }
      },
      "source": [
        "predictions_mnb = mnb_classifier.predict(X_test_std)\n",
        "\n",
        "accuracy_score(y_test_enc, predictions_mnb)"
      ],
      "execution_count": 25,
      "outputs": [
        {
          "output_type": "execute_result",
          "data": {
            "text/plain": [
              "0.7973491979817757"
            ]
          },
          "metadata": {
            "tags": []
          },
          "execution_count": 25
        }
      ]
    },
    {
      "cell_type": "code",
      "metadata": {
        "id": "sgnBUor-_2xw",
        "outputId": "f1e9822c-84af-4b90-968e-509db1b5172c",
        "colab": {
          "base_uri": "https://localhost:8080/",
          "height": 449
        }
      },
      "source": [
        "from sklearn.metrics import confusion_matrix\n",
        "import seaborn as sn\n",
        "import matplotlib.pyplot as plt\n",
        "\n",
        "conf_m = confusion_matrix(y_test_enc, predictions_mnb)\n",
        "\n",
        "np.fill_diagonal(conf_m, 0)\n",
        "\n",
        "plt.figure(figsize = (10,7))\n",
        "sn.heatmap(conf_m, annot=False)"
      ],
      "execution_count": 26,
      "outputs": [
        {
          "output_type": "execute_result",
          "data": {
            "text/plain": [
              "<matplotlib.axes._subplots.AxesSubplot at 0x7f69f08580b8>"
            ]
          },
          "metadata": {
            "tags": []
          },
          "execution_count": 26
        },
        {
          "output_type": "display_data",
          "data": {
            "image/png": "[encoded data removed]",
            "text/plain": [
              "<Figure size 720x504 with 2 Axes>"
            ]
          },
          "metadata": {
            "tags": [],
            "needs_background": "light"
          }
        }
      ]
    },
    {
      "cell_type": "code",
      "metadata": {
        "id": "o_Z_isw7A1w9",
        "outputId": "1cc11195-3069-4482-8f45-f14ace97c0db",
        "colab": {
          "base_uri": "https://localhost:8080/",
          "height": 34
        }
      },
      "source": [
        "ind = np.unravel_index(np.argmax(conf_m, axis=None), conf_m.shape)  # returns a tuple\n",
        "np.unravel_index(np.argmax(conf_m, axis=None), conf_m.shape)  # returns a tuple"
      ],
      "execution_count": 27,
      "outputs": [
        {
          "output_type": "execute_result",
          "data": {
            "text/plain": [
              "(31, 5)"
            ]
          },
          "metadata": {
            "tags": []
          },
          "execution_count": 27
        }
      ]
    },
    {
      "cell_type": "code",
      "metadata": {
        "id": "5lCZORgKGLNU"
      },
      "source": [
        "from sklearn.model_selection import GridSearchCV\n",
        "from sklearn.pipeline import Pipeline"
      ],
      "execution_count": 28,
      "outputs": []
    },
    {
      "cell_type": "code",
      "metadata": {
        "id": "WHnmq1CvOy9K",
        "outputId": "1b9f3160-ca9e-433f-9522-e515f9c43f82",
        "colab": {
          "base_uri": "https://localhost:8080/",
          "height": 1000
        }
      },
      "source": [
        "pipe_sgd = Pipeline([(\"vect\", CountVectorizer(#ngram_range=(1, 2),\n",
        "                                                token_pattern = r\"(?u)\\b\\w+\\b\",\n",
        "                                                analyzer='char')),\n",
        "                     ('scl', StandardScaler(with_mean=False)),\n",
        "                     ('clf', SGDClassifier())], verbose=True)\n",
        "\n",
        "\n",
        "ngram_range = [(1,1), (1,2), (1,3), (1,4)]\n",
        "\n",
        "param_grid = [{\"vect__ngram_range\": ngram_range},\n",
        "              {\"clf__loss\": [\"hinge\", \"log\", \"squared_hinge\", \"perceptron\"]},\n",
        "              {\"clf__penalty\": [\"l2\", \"l1\", \"elasticnet\"]},\n",
        "              {\"clf__learning_rate\": [\"optimal\"]}]\n",
        "\n",
        "\n",
        "gs = GridSearchCV(estimator=pipe_sgd, \n",
        "                  param_grid=param_grid, \n",
        "                  scoring='accuracy',\n",
        "                  cv=10,\n",
        "                  n_jobs=1,\n",
        "                 verbose=10)\n",
        "\n",
        "gs = gs.fit(X_train, y_train)\n",
        "print(gs.best_score_)\n",
        "\n",
        "print(gs.best_params_) "
      ],
      "execution_count": null,
      "outputs": [
        {
          "output_type": "stream",
          "text": [
            "Fitting 10 folds for each of 12 candidates, totalling 120 fits\n",
            "[CV] vect__ngram_range=(1, 1) ........................................\n"
          ],
          "name": "stdout"
        },
        {
          "output_type": "stream",
          "text": [
            "[Parallel(n_jobs=1)]: Using backend SequentialBackend with 1 concurrent workers.\n"
          ],
          "name": "stderr"
        },
        {
          "output_type": "stream",
          "text": [
            "[Pipeline] .............. (step 1 of 3) Processing vect, total=   1.0s\n",
            "[Pipeline] ............... (step 2 of 3) Processing scl, total=   0.1s\n",
            "[Pipeline] ............... (step 3 of 3) Processing clf, total=   7.6s\n",
            "[CV] ............ vect__ngram_range=(1, 1), score=0.787, total=   8.7s\n",
            "[CV] vect__ngram_range=(1, 1) ........................................\n"
          ],
          "name": "stdout"
        },
        {
          "output_type": "stream",
          "text": [
            "[Parallel(n_jobs=1)]: Done   1 out of   1 | elapsed:    8.7s remaining:    0.0s\n"
          ],
          "name": "stderr"
        },
        {
          "output_type": "stream",
          "text": [
            "[Pipeline] .............. (step 1 of 3) Processing vect, total=   1.0s\n",
            "[Pipeline] ............... (step 2 of 3) Processing scl, total=   0.1s\n",
            "[Pipeline] ............... (step 3 of 3) Processing clf, total=   7.5s\n",
            "[CV] ............ vect__ngram_range=(1, 1), score=0.810, total=   8.7s\n",
            "[CV] vect__ngram_range=(1, 1) ........................................\n"
          ],
          "name": "stdout"
        },
        {
          "output_type": "stream",
          "text": [
            "[Parallel(n_jobs=1)]: Done   2 out of   2 | elapsed:   17.4s remaining:    0.0s\n"
          ],
          "name": "stderr"
        },
        {
          "output_type": "stream",
          "text": [
            "[Pipeline] .............. (step 1 of 3) Processing vect, total=   1.0s\n",
            "[Pipeline] ............... (step 2 of 3) Processing scl, total=   0.1s\n",
            "[Pipeline] ............... (step 3 of 3) Processing clf, total=   8.4s\n",
            "[CV] ............ vect__ngram_range=(1, 1), score=0.823, total=   9.6s\n",
            "[CV] vect__ngram_range=(1, 1) ........................................\n"
          ],
          "name": "stdout"
        },
        {
          "output_type": "stream",
          "text": [
            "[Parallel(n_jobs=1)]: Done   3 out of   3 | elapsed:   27.0s remaining:    0.0s\n"
          ],
          "name": "stderr"
        },
        {
          "output_type": "stream",
          "text": [
            "[Pipeline] .............. (step 1 of 3) Processing vect, total=   1.0s\n",
            "[Pipeline] ............... (step 2 of 3) Processing scl, total=   0.1s\n",
            "[Pipeline] ............... (step 3 of 3) Processing clf, total=   7.0s\n",
            "[CV] ............ vect__ngram_range=(1, 1), score=0.819, total=   8.1s\n",
            "[CV] vect__ngram_range=(1, 1) ........................................\n"
          ],
          "name": "stdout"
        },
        {
          "output_type": "stream",
          "text": [
            "[Parallel(n_jobs=1)]: Done   4 out of   4 | elapsed:   35.2s remaining:    0.0s\n"
          ],
          "name": "stderr"
        },
        {
          "output_type": "stream",
          "text": [
            "[Pipeline] .............. (step 1 of 3) Processing vect, total=   1.0s\n",
            "[Pipeline] ............... (step 2 of 3) Processing scl, total=   0.1s\n",
            "[Pipeline] ............... (step 3 of 3) Processing clf, total=   8.5s\n",
            "[CV] ............ vect__ngram_range=(1, 1), score=0.814, total=   9.7s\n",
            "[CV] vect__ngram_range=(1, 1) ........................................\n"
          ],
          "name": "stdout"
        },
        {
          "output_type": "stream",
          "text": [
            "[Parallel(n_jobs=1)]: Done   5 out of   5 | elapsed:   44.8s remaining:    0.0s\n"
          ],
          "name": "stderr"
        },
        {
          "output_type": "stream",
          "text": [
            "[Pipeline] .............. (step 1 of 3) Processing vect, total=   1.0s\n",
            "[Pipeline] ............... (step 2 of 3) Processing scl, total=   0.1s\n",
            "[Pipeline] ............... (step 3 of 3) Processing clf, total=   7.8s\n",
            "[CV] ............ vect__ngram_range=(1, 1), score=0.818, total=   9.0s\n",
            "[CV] vect__ngram_range=(1, 1) ........................................\n"
          ],
          "name": "stdout"
        },
        {
          "output_type": "stream",
          "text": [
            "[Parallel(n_jobs=1)]: Done   6 out of   6 | elapsed:   53.8s remaining:    0.0s\n"
          ],
          "name": "stderr"
        },
        {
          "output_type": "stream",
          "text": [
            "[Pipeline] .............. (step 1 of 3) Processing vect, total=   1.0s\n",
            "[Pipeline] ............... (step 2 of 3) Processing scl, total=   0.1s\n",
            "[Pipeline] ............... (step 3 of 3) Processing clf, total=   7.1s\n",
            "[CV] ............ vect__ngram_range=(1, 1), score=0.803, total=   8.2s\n",
            "[CV] vect__ngram_range=(1, 1) ........................................\n"
          ],
          "name": "stdout"
        },
        {
          "output_type": "stream",
          "text": [
            "[Parallel(n_jobs=1)]: Done   7 out of   7 | elapsed:  1.0min remaining:    0.0s\n"
          ],
          "name": "stderr"
        },
        {
          "output_type": "stream",
          "text": [
            "[Pipeline] .............. (step 1 of 3) Processing vect, total=   1.0s\n",
            "[Pipeline] ............... (step 2 of 3) Processing scl, total=   0.1s\n",
            "[Pipeline] ............... (step 3 of 3) Processing clf, total=   7.5s\n",
            "[CV] ............ vect__ngram_range=(1, 1), score=0.804, total=   8.6s\n",
            "[CV] vect__ngram_range=(1, 1) ........................................\n"
          ],
          "name": "stdout"
        },
        {
          "output_type": "stream",
          "text": [
            "[Parallel(n_jobs=1)]: Done   8 out of   8 | elapsed:  1.2min remaining:    0.0s\n"
          ],
          "name": "stderr"
        },
        {
          "output_type": "stream",
          "text": [
            "[Pipeline] .............. (step 1 of 3) Processing vect, total=   1.0s\n",
            "[Pipeline] ............... (step 2 of 3) Processing scl, total=   0.1s\n",
            "[Pipeline] ............... (step 3 of 3) Processing clf, total=   7.6s\n",
            "[CV] ............ vect__ngram_range=(1, 1), score=0.817, total=   8.8s\n",
            "[CV] vect__ngram_range=(1, 1) ........................................\n"
          ],
          "name": "stdout"
        },
        {
          "output_type": "stream",
          "text": [
            "[Parallel(n_jobs=1)]: Done   9 out of   9 | elapsed:  1.3min remaining:    0.0s\n"
          ],
          "name": "stderr"
        },
        {
          "output_type": "stream",
          "text": [
            "[Pipeline] .............. (step 1 of 3) Processing vect, total=   1.0s\n",
            "[Pipeline] ............... (step 2 of 3) Processing scl, total=   0.1s\n",
            "[Pipeline] ............... (step 3 of 3) Processing clf, total=   7.9s\n",
            "[CV] ............ vect__ngram_range=(1, 1), score=0.797, total=   9.0s\n",
            "[CV] vect__ngram_range=(1, 2) ........................................\n",
            "[Pipeline] .............. (step 1 of 3) Processing vect, total=   2.8s\n",
            "[Pipeline] ............... (step 2 of 3) Processing scl, total=   0.2s\n",
            "[Pipeline] ............... (step 3 of 3) Processing clf, total=  16.7s\n",
            "[CV] ............ vect__ngram_range=(1, 2), score=0.828, total=  20.1s\n",
            "[CV] vect__ngram_range=(1, 2) ........................................\n",
            "[Pipeline] .............. (step 1 of 3) Processing vect, total=   2.8s\n",
            "[Pipeline] ............... (step 2 of 3) Processing scl, total=   0.2s\n",
            "[Pipeline] ............... (step 3 of 3) Processing clf, total=  17.5s\n",
            "[CV] ............ vect__ngram_range=(1, 2), score=0.845, total=  21.0s\n",
            "[CV] vect__ngram_range=(1, 2) ........................................\n",
            "[Pipeline] .............. (step 1 of 3) Processing vect, total=   2.8s\n",
            "[Pipeline] ............... (step 2 of 3) Processing scl, total=   0.2s\n",
            "[Pipeline] ............... (step 3 of 3) Processing clf, total=  16.7s\n",
            "[CV] ............ vect__ngram_range=(1, 2), score=0.842, total=  20.1s\n",
            "[CV] vect__ngram_range=(1, 2) ........................................\n",
            "[Pipeline] .............. (step 1 of 3) Processing vect, total=   2.8s\n",
            "[Pipeline] ............... (step 2 of 3) Processing scl, total=   0.2s\n",
            "[Pipeline] ............... (step 3 of 3) Processing clf, total=  17.3s\n",
            "[CV] ............ vect__ngram_range=(1, 2), score=0.844, total=  20.6s\n",
            "[CV] vect__ngram_range=(1, 2) ........................................\n",
            "[Pipeline] .............. (step 1 of 3) Processing vect, total=   2.8s\n",
            "[Pipeline] ............... (step 2 of 3) Processing scl, total=   0.2s\n",
            "[Pipeline] ............... (step 3 of 3) Processing clf, total=  16.6s\n",
            "[CV] ............ vect__ngram_range=(1, 2), score=0.846, total=  20.0s\n",
            "[CV] vect__ngram_range=(1, 2) ........................................\n",
            "[Pipeline] .............. (step 1 of 3) Processing vect, total=   2.8s\n",
            "[Pipeline] ............... (step 2 of 3) Processing scl, total=   0.2s\n",
            "[Pipeline] ............... (step 3 of 3) Processing clf, total=  16.4s\n",
            "[CV] ............ vect__ngram_range=(1, 2), score=0.844, total=  19.8s\n",
            "[CV] vect__ngram_range=(1, 2) ........................................\n",
            "[Pipeline] .............. (step 1 of 3) Processing vect, total=   2.8s\n",
            "[Pipeline] ............... (step 2 of 3) Processing scl, total=   0.2s\n",
            "[Pipeline] ............... (step 3 of 3) Processing clf, total=  17.6s\n",
            "[CV] ............ vect__ngram_range=(1, 2), score=0.839, total=  21.0s\n",
            "[CV] vect__ngram_range=(1, 2) ........................................\n",
            "[Pipeline] .............. (step 1 of 3) Processing vect, total=   2.8s\n",
            "[Pipeline] ............... (step 2 of 3) Processing scl, total=   0.2s\n",
            "[Pipeline] ............... (step 3 of 3) Processing clf, total=  17.0s\n",
            "[CV] ............ vect__ngram_range=(1, 2), score=0.841, total=  20.4s\n",
            "[CV] vect__ngram_range=(1, 2) ........................................\n",
            "[Pipeline] .............. (step 1 of 3) Processing vect, total=   2.8s\n",
            "[Pipeline] ............... (step 2 of 3) Processing scl, total=   0.2s\n",
            "[Pipeline] ............... (step 3 of 3) Processing clf, total=  16.4s\n",
            "[CV] ............ vect__ngram_range=(1, 2), score=0.851, total=  19.7s\n",
            "[CV] vect__ngram_range=(1, 2) ........................................\n",
            "[Pipeline] .............. (step 1 of 3) Processing vect, total=   2.8s\n",
            "[Pipeline] ............... (step 2 of 3) Processing scl, total=   0.2s\n",
            "[Pipeline] ............... (step 3 of 3) Processing clf, total=  16.6s\n",
            "[CV] ............ vect__ngram_range=(1, 2), score=0.838, total=  20.0s\n",
            "[CV] vect__ngram_range=(1, 3) ........................................\n",
            "[Pipeline] .............. (step 1 of 3) Processing vect, total=   6.1s\n",
            "[Pipeline] ............... (step 2 of 3) Processing scl, total=   0.5s\n",
            "[Pipeline] ............... (step 3 of 3) Processing clf, total=  13.7s\n",
            "[CV] ............ vect__ngram_range=(1, 3), score=0.805, total=  20.9s\n",
            "[CV] vect__ngram_range=(1, 3) ........................................\n",
            "[Pipeline] .............. (step 1 of 3) Processing vect, total=   6.0s\n",
            "[Pipeline] ............... (step 2 of 3) Processing scl, total=   0.5s\n",
            "[Pipeline] ............... (step 3 of 3) Processing clf, total=  14.5s\n",
            "[CV] ............ vect__ngram_range=(1, 3), score=0.810, total=  21.6s\n",
            "[CV] vect__ngram_range=(1, 3) ........................................\n",
            "[Pipeline] .............. (step 1 of 3) Processing vect, total=   6.1s\n",
            "[Pipeline] ............... (step 2 of 3) Processing scl, total=   0.4s\n",
            "[Pipeline] ............... (step 3 of 3) Processing clf, total=  14.2s\n",
            "[CV] ............ vect__ngram_range=(1, 3), score=0.824, total=  21.4s\n",
            "[CV] vect__ngram_range=(1, 3) ........................................\n",
            "[Pipeline] .............. (step 1 of 3) Processing vect, total=   6.1s\n",
            "[Pipeline] ............... (step 2 of 3) Processing scl, total=   0.4s\n",
            "[Pipeline] ............... (step 3 of 3) Processing clf, total=  13.9s\n",
            "[CV] ............ vect__ngram_range=(1, 3), score=0.823, total=  21.1s\n",
            "[CV] vect__ngram_range=(1, 3) ........................................\n",
            "[Pipeline] .............. (step 1 of 3) Processing vect, total=   6.1s\n",
            "[Pipeline] ............... (step 2 of 3) Processing scl, total=   0.5s\n",
            "[Pipeline] ............... (step 3 of 3) Processing clf, total=  13.8s\n",
            "[CV] ............ vect__ngram_range=(1, 3), score=0.822, total=  21.0s\n",
            "[CV] vect__ngram_range=(1, 3) ........................................\n",
            "[Pipeline] .............. (step 1 of 3) Processing vect, total=   6.1s\n",
            "[Pipeline] ............... (step 2 of 3) Processing scl, total=   0.5s\n",
            "[Pipeline] ............... (step 3 of 3) Processing clf, total=  14.1s\n",
            "[CV] ............ vect__ngram_range=(1, 3), score=0.826, total=  21.3s\n",
            "[CV] vect__ngram_range=(1, 3) ........................................\n",
            "[Pipeline] .............. (step 1 of 3) Processing vect, total=   6.2s\n",
            "[Pipeline] ............... (step 2 of 3) Processing scl, total=   0.4s\n",
            "[Pipeline] ............... (step 3 of 3) Processing clf, total=  13.7s\n",
            "[CV] ............ vect__ngram_range=(1, 3), score=0.821, total=  21.0s\n",
            "[CV] vect__ngram_range=(1, 3) ........................................\n",
            "[Pipeline] .............. (step 1 of 3) Processing vect, total=   6.1s\n",
            "[Pipeline] ............... (step 2 of 3) Processing scl, total=   0.4s\n",
            "[Pipeline] ............... (step 3 of 3) Processing clf, total=  13.4s\n",
            "[CV] ............ vect__ngram_range=(1, 3), score=0.827, total=  20.7s\n",
            "[CV] vect__ngram_range=(1, 3) ........................................\n",
            "[Pipeline] .............. (step 1 of 3) Processing vect, total=   6.1s\n",
            "[Pipeline] ............... (step 2 of 3) Processing scl, total=   0.4s\n",
            "[Pipeline] ............... (step 3 of 3) Processing clf, total=  13.7s\n",
            "[CV] ............ vect__ngram_range=(1, 3), score=0.826, total=  20.9s\n",
            "[CV] vect__ngram_range=(1, 3) ........................................\n",
            "[Pipeline] .............. (step 1 of 3) Processing vect, total=   6.2s\n",
            "[Pipeline] ............... (step 2 of 3) Processing scl, total=   0.4s\n",
            "[Pipeline] ............... (step 3 of 3) Processing clf, total=  14.2s\n",
            "[CV] ............ vect__ngram_range=(1, 3), score=0.816, total=  21.6s\n",
            "[CV] vect__ngram_range=(1, 4) ........................................\n",
            "[Pipeline] .............. (step 1 of 3) Processing vect, total=  11.6s\n",
            "[Pipeline] ............... (step 2 of 3) Processing scl, total=   0.8s\n",
            "[Pipeline] ............... (step 3 of 3) Processing clf, total=  21.2s\n",
            "[CV] ............ vect__ngram_range=(1, 4), score=0.802, total=  34.8s\n",
            "[CV] vect__ngram_range=(1, 4) ........................................\n",
            "[Pipeline] .............. (step 1 of 3) Processing vect, total=  11.7s\n",
            "[Pipeline] ............... (step 2 of 3) Processing scl, total=   0.8s\n",
            "[Pipeline] ............... (step 3 of 3) Processing clf, total=  21.4s\n",
            "[CV] ............ vect__ngram_range=(1, 4), score=0.812, total=  35.0s\n",
            "[CV] vect__ngram_range=(1, 4) ........................................\n",
            "[Pipeline] .............. (step 1 of 3) Processing vect, total=  11.8s\n",
            "[Pipeline] ............... (step 2 of 3) Processing scl, total=   0.8s\n",
            "[Pipeline] ............... (step 3 of 3) Processing clf, total=  21.3s\n",
            "[CV] ............ vect__ngram_range=(1, 4), score=0.826, total=  35.1s\n",
            "[CV] vect__ngram_range=(1, 4) ........................................\n",
            "[Pipeline] .............. (step 1 of 3) Processing vect, total=  11.7s\n",
            "[Pipeline] ............... (step 2 of 3) Processing scl, total=   0.8s\n",
            "[Pipeline] ............... (step 3 of 3) Processing clf, total=  21.3s\n",
            "[CV] ............ vect__ngram_range=(1, 4), score=0.815, total=  34.9s\n",
            "[CV] vect__ngram_range=(1, 4) ........................................\n",
            "[Pipeline] .............. (step 1 of 3) Processing vect, total=  11.8s\n",
            "[Pipeline] ............... (step 2 of 3) Processing scl, total=   0.8s\n",
            "[Pipeline] ............... (step 3 of 3) Processing clf, total=  21.0s\n",
            "[CV] ............ vect__ngram_range=(1, 4), score=0.826, total=  34.7s\n",
            "[CV] vect__ngram_range=(1, 4) ........................................\n",
            "[Pipeline] .............. (step 1 of 3) Processing vect, total=  11.7s\n",
            "[Pipeline] ............... (step 2 of 3) Processing scl, total=   0.8s\n",
            "[Pipeline] ............... (step 3 of 3) Processing clf, total=  21.2s\n",
            "[CV] ............ vect__ngram_range=(1, 4), score=0.824, total=  34.8s\n",
            "[CV] vect__ngram_range=(1, 4) ........................................\n",
            "[Pipeline] .............. (step 1 of 3) Processing vect, total=  11.8s\n",
            "[Pipeline] ............... (step 2 of 3) Processing scl, total=   0.8s\n",
            "[Pipeline] ............... (step 3 of 3) Processing clf, total=  21.6s\n",
            "[CV] ............ vect__ngram_range=(1, 4), score=0.828, total=  35.3s\n",
            "[CV] vect__ngram_range=(1, 4) ........................................\n",
            "[Pipeline] .............. (step 1 of 3) Processing vect, total=  11.7s\n",
            "[Pipeline] ............... (step 2 of 3) Processing scl, total=   0.8s\n",
            "[Pipeline] ............... (step 3 of 3) Processing clf, total=  21.0s\n",
            "[CV] ............ vect__ngram_range=(1, 4), score=0.818, total=  34.6s\n",
            "[CV] vect__ngram_range=(1, 4) ........................................\n",
            "[Pipeline] .............. (step 1 of 3) Processing vect, total=  11.8s\n",
            "[Pipeline] ............... (step 2 of 3) Processing scl, total=   0.8s\n",
            "[Pipeline] ............... (step 3 of 3) Processing clf, total=  21.1s\n",
            "[CV] ............ vect__ngram_range=(1, 4), score=0.819, total=  34.8s\n",
            "[CV] vect__ngram_range=(1, 4) ........................................\n",
            "[Pipeline] .............. (step 1 of 3) Processing vect, total=  11.8s\n",
            "[Pipeline] ............... (step 2 of 3) Processing scl, total=   0.8s\n",
            "[Pipeline] ............... (step 3 of 3) Processing clf, total=  21.8s\n",
            "[CV] ............ vect__ngram_range=(1, 4), score=0.822, total=  35.5s\n",
            "[CV] clf__loss=hinge .................................................\n",
            "[Pipeline] .............. (step 1 of 3) Processing vect, total=   0.9s\n",
            "[Pipeline] ............... (step 2 of 3) Processing scl, total=   0.1s\n",
            "[Pipeline] ............... (step 3 of 3) Processing clf, total=   7.8s\n",
            "[CV] ..................... clf__loss=hinge, score=0.792, total=   8.9s\n",
            "[CV] clf__loss=hinge .................................................\n",
            "[Pipeline] .............. (step 1 of 3) Processing vect, total=   1.0s\n",
            "[Pipeline] ............... (step 2 of 3) Processing scl, total=   0.1s\n",
            "[Pipeline] ............... (step 3 of 3) Processing clf, total=   7.9s\n",
            "[CV] ..................... clf__loss=hinge, score=0.809, total=   9.0s\n",
            "[CV] clf__loss=hinge .................................................\n",
            "[Pipeline] .............. (step 1 of 3) Processing vect, total=   0.9s\n",
            "[Pipeline] ............... (step 2 of 3) Processing scl, total=   0.1s\n",
            "[Pipeline] ............... (step 3 of 3) Processing clf, total=   7.8s\n",
            "[CV] ..................... clf__loss=hinge, score=0.815, total=   8.9s\n",
            "[CV] clf__loss=hinge .................................................\n",
            "[Pipeline] .............. (step 1 of 3) Processing vect, total=   0.9s\n",
            "[Pipeline] ............... (step 2 of 3) Processing scl, total=   0.1s\n",
            "[Pipeline] ............... (step 3 of 3) Processing clf, total=   7.6s\n",
            "[CV] ..................... clf__loss=hinge, score=0.815, total=   8.8s\n",
            "[CV] clf__loss=hinge .................................................\n",
            "[Pipeline] .............. (step 1 of 3) Processing vect, total=   1.0s\n",
            "[Pipeline] ............... (step 2 of 3) Processing scl, total=   0.1s\n",
            "[Pipeline] ............... (step 3 of 3) Processing clf, total=   7.8s\n",
            "[CV] ..................... clf__loss=hinge, score=0.805, total=   9.0s\n",
            "[CV] clf__loss=hinge .................................................\n",
            "[Pipeline] .............. (step 1 of 3) Processing vect, total=   1.0s\n",
            "[Pipeline] ............... (step 2 of 3) Processing scl, total=   0.1s\n",
            "[Pipeline] ............... (step 3 of 3) Processing clf, total=   8.7s\n",
            "[CV] ..................... clf__loss=hinge, score=0.815, total=   9.8s\n",
            "[CV] clf__loss=hinge .................................................\n",
            "[Pipeline] .............. (step 1 of 3) Processing vect, total=   1.0s\n",
            "[Pipeline] ............... (step 2 of 3) Processing scl, total=   0.1s\n",
            "[Pipeline] ............... (step 3 of 3) Processing clf, total=   8.7s\n",
            "[CV] ..................... clf__loss=hinge, score=0.800, total=   9.9s\n",
            "[CV] clf__loss=hinge .................................................\n",
            "[Pipeline] .............. (step 1 of 3) Processing vect, total=   1.0s\n",
            "[Pipeline] ............... (step 2 of 3) Processing scl, total=   0.1s\n",
            "[Pipeline] ............... (step 3 of 3) Processing clf, total=   8.1s\n",
            "[CV] ..................... clf__loss=hinge, score=0.799, total=   9.3s\n",
            "[CV] clf__loss=hinge .................................................\n",
            "[Pipeline] .............. (step 1 of 3) Processing vect, total=   0.9s\n",
            "[Pipeline] ............... (step 2 of 3) Processing scl, total=   0.1s\n",
            "[Pipeline] ............... (step 3 of 3) Processing clf, total=   7.6s\n",
            "[CV] ..................... clf__loss=hinge, score=0.810, total=   8.7s\n",
            "[CV] clf__loss=hinge .................................................\n",
            "[Pipeline] .............. (step 1 of 3) Processing vect, total=   1.0s\n",
            "[Pipeline] ............... (step 2 of 3) Processing scl, total=   0.1s\n",
            "[Pipeline] ............... (step 3 of 3) Processing clf, total=   7.9s\n",
            "[CV] ..................... clf__loss=hinge, score=0.792, total=   9.0s\n",
            "[CV] clf__loss=log ...................................................\n",
            "[Pipeline] .............. (step 1 of 3) Processing vect, total=   0.9s\n",
            "[Pipeline] ............... (step 2 of 3) Processing scl, total=   0.1s\n",
            "[Pipeline] ............... (step 3 of 3) Processing clf, total=  11.8s\n",
            "[CV] ....................... clf__loss=log, score=0.795, total=  12.9s\n",
            "[CV] clf__loss=log ...................................................\n",
            "[Pipeline] .............. (step 1 of 3) Processing vect, total=   0.9s\n",
            "[Pipeline] ............... (step 2 of 3) Processing scl, total=   0.1s\n",
            "[Pipeline] ............... (step 3 of 3) Processing clf, total=  11.8s\n",
            "[CV] ....................... clf__loss=log, score=0.810, total=  12.9s\n",
            "[CV] clf__loss=log ...................................................\n",
            "[Pipeline] .............. (step 1 of 3) Processing vect, total=   0.9s\n",
            "[Pipeline] ............... (step 2 of 3) Processing scl, total=   0.1s\n",
            "[Pipeline] ............... (step 3 of 3) Processing clf, total=  13.6s\n",
            "[CV] ....................... clf__loss=log, score=0.826, total=  14.7s\n",
            "[CV] clf__loss=log ...................................................\n",
            "[Pipeline] .............. (step 1 of 3) Processing vect, total=   1.0s\n",
            "[Pipeline] ............... (step 2 of 3) Processing scl, total=   0.1s\n",
            "[Pipeline] ............... (step 3 of 3) Processing clf, total=  12.7s\n",
            "[CV] ....................... clf__loss=log, score=0.823, total=  13.8s\n",
            "[CV] clf__loss=log ...................................................\n",
            "[Pipeline] .............. (step 1 of 3) Processing vect, total=   0.9s\n",
            "[Pipeline] ............... (step 2 of 3) Processing scl, total=   0.1s\n",
            "[Pipeline] ............... (step 3 of 3) Processing clf, total=  12.1s\n",
            "[CV] ....................... clf__loss=log, score=0.813, total=  13.2s\n",
            "[CV] clf__loss=log ...................................................\n",
            "[Pipeline] .............. (step 1 of 3) Processing vect, total=   1.0s\n",
            "[Pipeline] ............... (step 2 of 3) Processing scl, total=   0.1s\n",
            "[Pipeline] ............... (step 3 of 3) Processing clf, total=  13.2s\n",
            "[CV] ....................... clf__loss=log, score=0.817, total=  14.3s\n",
            "[CV] clf__loss=log ...................................................\n",
            "[Pipeline] .............. (step 1 of 3) Processing vect, total=   1.0s\n",
            "[Pipeline] ............... (step 2 of 3) Processing scl, total=   0.1s\n",
            "[Pipeline] ............... (step 3 of 3) Processing clf, total=  11.8s\n",
            "[CV] ....................... clf__loss=log, score=0.807, total=  12.9s\n",
            "[CV] clf__loss=log ...................................................\n",
            "[Pipeline] .............. (step 1 of 3) Processing vect, total=   0.9s\n",
            "[Pipeline] ............... (step 2 of 3) Processing scl, total=   0.1s\n",
            "[Pipeline] ............... (step 3 of 3) Processing clf, total=  12.3s\n",
            "[CV] ....................... clf__loss=log, score=0.802, total=  13.4s\n",
            "[CV] clf__loss=log ...................................................\n",
            "[Pipeline] .............. (step 1 of 3) Processing vect, total=   1.0s\n",
            "[Pipeline] ............... (step 2 of 3) Processing scl, total=   0.1s\n",
            "[Pipeline] ............... (step 3 of 3) Processing clf, total=  12.2s\n",
            "[CV] ....................... clf__loss=log, score=0.815, total=  13.4s\n",
            "[CV] clf__loss=log ...................................................\n",
            "[Pipeline] .............. (step 1 of 3) Processing vect, total=   0.9s\n",
            "[Pipeline] ............... (step 2 of 3) Processing scl, total=   0.1s\n",
            "[Pipeline] ............... (step 3 of 3) Processing clf, total=  12.9s\n",
            "[CV] ....................... clf__loss=log, score=0.804, total=  14.0s\n",
            "[CV] clf__loss=squared_hinge .........................................\n",
            "[Pipeline] .............. (step 1 of 3) Processing vect, total=   0.9s\n",
            "[Pipeline] ............... (step 2 of 3) Processing scl, total=   0.1s\n",
            "[Pipeline] ............... (step 3 of 3) Processing clf, total=   8.4s\n",
            "[CV] ............. clf__loss=squared_hinge, score=0.745, total=   9.6s\n",
            "[CV] clf__loss=squared_hinge .........................................\n",
            "[Pipeline] .............. (step 1 of 3) Processing vect, total=   0.9s\n",
            "[Pipeline] ............... (step 2 of 3) Processing scl, total=   0.1s\n",
            "[Pipeline] ............... (step 3 of 3) Processing clf, total=   9.0s\n",
            "[CV] ............. clf__loss=squared_hinge, score=0.744, total=  10.1s\n",
            "[CV] clf__loss=squared_hinge .........................................\n",
            "[Pipeline] .............. (step 1 of 3) Processing vect, total=   0.9s\n",
            "[Pipeline] ............... (step 2 of 3) Processing scl, total=   0.1s\n",
            "[Pipeline] ............... (step 3 of 3) Processing clf, total=  10.1s\n",
            "[CV] ............. clf__loss=squared_hinge, score=0.781, total=  11.2s\n",
            "[CV] clf__loss=squared_hinge .........................................\n",
            "[Pipeline] .............. (step 1 of 3) Processing vect, total=   0.9s\n",
            "[Pipeline] ............... (step 2 of 3) Processing scl, total=   0.1s\n",
            "[Pipeline] ............... (step 3 of 3) Processing clf, total=   8.9s\n",
            "[CV] ............. clf__loss=squared_hinge, score=0.770, total=  10.0s\n",
            "[CV] clf__loss=squared_hinge .........................................\n",
            "[Pipeline] .............. (step 1 of 3) Processing vect, total=   0.9s\n",
            "[Pipeline] ............... (step 2 of 3) Processing scl, total=   0.1s\n",
            "[Pipeline] ............... (step 3 of 3) Processing clf, total=   8.8s\n",
            "[CV] ............. clf__loss=squared_hinge, score=0.765, total=  10.0s\n",
            "[CV] clf__loss=squared_hinge .........................................\n",
            "[Pipeline] .............. (step 1 of 3) Processing vect, total=   1.0s\n",
            "[Pipeline] ............... (step 2 of 3) Processing scl, total=   0.1s\n",
            "[Pipeline] ............... (step 3 of 3) Processing clf, total=   9.7s\n",
            "[CV] ............. clf__loss=squared_hinge, score=0.768, total=  10.9s\n",
            "[CV] clf__loss=squared_hinge .........................................\n",
            "[Pipeline] .............. (step 1 of 3) Processing vect, total=   0.9s\n",
            "[Pipeline] ............... (step 2 of 3) Processing scl, total=   0.1s\n",
            "[Pipeline] ............... (step 3 of 3) Processing clf, total=   9.2s\n",
            "[CV] ............. clf__loss=squared_hinge, score=0.754, total=  10.3s\n",
            "[CV] clf__loss=squared_hinge .........................................\n",
            "[Pipeline] .............. (step 1 of 3) Processing vect, total=   1.0s\n",
            "[Pipeline] ............... (step 2 of 3) Processing scl, total=   0.1s\n",
            "[Pipeline] ............... (step 3 of 3) Processing clf, total=  10.5s\n",
            "[CV] ............. clf__loss=squared_hinge, score=0.745, total=  11.7s\n",
            "[CV] clf__loss=squared_hinge .........................................\n",
            "[Pipeline] .............. (step 1 of 3) Processing vect, total=   0.9s\n",
            "[Pipeline] ............... (step 2 of 3) Processing scl, total=   0.1s\n",
            "[Pipeline] ............... (step 3 of 3) Processing clf, total=   9.6s\n",
            "[CV] ............. clf__loss=squared_hinge, score=0.752, total=  10.8s\n",
            "[CV] clf__loss=squared_hinge .........................................\n",
            "[Pipeline] .............. (step 1 of 3) Processing vect, total=   1.0s\n",
            "[Pipeline] ............... (step 2 of 3) Processing scl, total=   0.1s\n",
            "[Pipeline] ............... (step 3 of 3) Processing clf, total=   9.2s\n",
            "[CV] ............. clf__loss=squared_hinge, score=0.751, total=  10.4s\n",
            "[CV] clf__loss=perceptron ............................................\n",
            "[Pipeline] .............. (step 1 of 3) Processing vect, total=   0.9s\n",
            "[Pipeline] ............... (step 2 of 3) Processing scl, total=   0.1s\n",
            "[Pipeline] ............... (step 3 of 3) Processing clf, total=   7.5s\n",
            "[CV] ................ clf__loss=perceptron, score=0.760, total=   8.7s\n",
            "[CV] clf__loss=perceptron ............................................\n",
            "[Pipeline] .............. (step 1 of 3) Processing vect, total=   0.9s\n",
            "[Pipeline] ............... (step 2 of 3) Processing scl, total=   0.1s\n",
            "[Pipeline] ............... (step 3 of 3) Processing clf, total=   8.0s\n",
            "[CV] ................ clf__loss=perceptron, score=0.773, total=   9.1s\n",
            "[CV] clf__loss=perceptron ............................................\n",
            "[Pipeline] .............. (step 1 of 3) Processing vect, total=   1.0s\n",
            "[Pipeline] ............... (step 2 of 3) Processing scl, total=   0.1s\n",
            "[Pipeline] ............... (step 3 of 3) Processing clf, total=   7.7s\n",
            "[CV] ................ clf__loss=perceptron, score=0.783, total=   8.9s\n",
            "[CV] clf__loss=perceptron ............................................\n",
            "[Pipeline] .............. (step 1 of 3) Processing vect, total=   0.9s\n",
            "[Pipeline] ............... (step 2 of 3) Processing scl, total=   0.1s\n",
            "[Pipeline] ............... (step 3 of 3) Processing clf, total=   7.8s\n",
            "[CV] ................ clf__loss=perceptron, score=0.778, total=   9.0s\n",
            "[CV] clf__loss=perceptron ............................................\n",
            "[Pipeline] .............. (step 1 of 3) Processing vect, total=   0.9s\n",
            "[Pipeline] ............... (step 2 of 3) Processing scl, total=   0.1s\n",
            "[Pipeline] ............... (step 3 of 3) Processing clf, total=   8.3s\n",
            "[CV] ................ clf__loss=perceptron, score=0.763, total=   9.5s\n",
            "[CV] clf__loss=perceptron ............................................\n",
            "[Pipeline] .............. (step 1 of 3) Processing vect, total=   0.9s\n",
            "[Pipeline] ............... (step 2 of 3) Processing scl, total=   0.1s\n",
            "[Pipeline] ............... (step 3 of 3) Processing clf, total=   8.1s\n",
            "[CV] ................ clf__loss=perceptron, score=0.778, total=   9.2s\n",
            "[CV] clf__loss=perceptron ............................................\n",
            "[Pipeline] .............. (step 1 of 3) Processing vect, total=   0.9s\n",
            "[Pipeline] ............... (step 2 of 3) Processing scl, total=   0.1s\n",
            "[Pipeline] ............... (step 3 of 3) Processing clf, total=   8.0s\n",
            "[CV] ................ clf__loss=perceptron, score=0.774, total=   9.1s\n",
            "[CV] clf__loss=perceptron ............................................\n",
            "[Pipeline] .............. (step 1 of 3) Processing vect, total=   1.0s\n",
            "[Pipeline] ............... (step 2 of 3) Processing scl, total=   0.1s\n",
            "[Pipeline] ............... (step 3 of 3) Processing clf, total=   7.5s\n",
            "[CV] ................ clf__loss=perceptron, score=0.755, total=   8.7s\n",
            "[CV] clf__loss=perceptron ............................................\n",
            "[Pipeline] .............. (step 1 of 3) Processing vect, total=   0.9s\n",
            "[Pipeline] ............... (step 2 of 3) Processing scl, total=   0.1s\n",
            "[Pipeline] ............... (step 3 of 3) Processing clf, total=   7.3s\n",
            "[CV] ................ clf__loss=perceptron, score=0.761, total=   8.4s\n",
            "[CV] clf__loss=perceptron ............................................\n",
            "[Pipeline] .............. (step 1 of 3) Processing vect, total=   1.0s\n",
            "[Pipeline] ............... (step 2 of 3) Processing scl, total=   0.1s\n",
            "[Pipeline] ............... (step 3 of 3) Processing clf, total=   7.5s\n",
            "[CV] ................ clf__loss=perceptron, score=0.765, total=   8.7s\n",
            "[CV] clf__penalty=l2 .................................................\n",
            "[Pipeline] .............. (step 1 of 3) Processing vect, total=   0.9s\n",
            "[Pipeline] ............... (step 2 of 3) Processing scl, total=   0.1s\n",
            "[Pipeline] ............... (step 3 of 3) Processing clf, total=   8.3s\n",
            "[CV] ..................... clf__penalty=l2, score=0.794, total=   9.4s\n",
            "[CV] clf__penalty=l2 .................................................\n",
            "[Pipeline] .............. (step 1 of 3) Processing vect, total=   1.0s\n",
            "[Pipeline] ............... (step 2 of 3) Processing scl, total=   0.1s\n",
            "[Pipeline] ............... (step 3 of 3) Processing clf, total=   7.3s\n",
            "[CV] ..................... clf__penalty=l2, score=0.809, total=   8.4s\n",
            "[CV] clf__penalty=l2 .................................................\n",
            "[Pipeline] .............. (step 1 of 3) Processing vect, total=   0.9s\n",
            "[Pipeline] ............... (step 2 of 3) Processing scl, total=   0.1s\n",
            "[Pipeline] ............... (step 3 of 3) Processing clf, total=   8.0s\n",
            "[CV] ..................... clf__penalty=l2, score=0.820, total=   9.1s\n",
            "[CV] clf__penalty=l2 .................................................\n",
            "[Pipeline] .............. (step 1 of 3) Processing vect, total=   0.9s\n",
            "[Pipeline] ............... (step 2 of 3) Processing scl, total=   0.1s\n",
            "[Pipeline] ............... (step 3 of 3) Processing clf, total=   7.8s\n",
            "[CV] ..................... clf__penalty=l2, score=0.819, total=   8.9s\n",
            "[CV] clf__penalty=l2 .................................................\n",
            "[Pipeline] .............. (step 1 of 3) Processing vect, total=   0.9s\n",
            "[Pipeline] ............... (step 2 of 3) Processing scl, total=   0.1s\n",
            "[Pipeline] ............... (step 3 of 3) Processing clf, total=   7.2s\n",
            "[CV] ..................... clf__penalty=l2, score=0.801, total=   8.4s\n",
            "[CV] clf__penalty=l2 .................................................\n",
            "[Pipeline] .............. (step 1 of 3) Processing vect, total=   0.9s\n",
            "[Pipeline] ............... (step 2 of 3) Processing scl, total=   0.1s\n",
            "[Pipeline] ............... (step 3 of 3) Processing clf, total=   8.4s\n",
            "[CV] ..................... clf__penalty=l2, score=0.811, total=   9.5s\n",
            "[CV] clf__penalty=l2 .................................................\n",
            "[Pipeline] .............. (step 1 of 3) Processing vect, total=   0.9s\n",
            "[Pipeline] ............... (step 2 of 3) Processing scl, total=   0.1s\n",
            "[Pipeline] ............... (step 3 of 3) Processing clf, total=   7.4s\n",
            "[CV] ..................... clf__penalty=l2, score=0.806, total=   8.5s\n",
            "[CV] clf__penalty=l2 .................................................\n",
            "[Pipeline] .............. (step 1 of 3) Processing vect, total=   1.0s\n",
            "[Pipeline] ............... (step 2 of 3) Processing scl, total=   0.1s\n",
            "[Pipeline] ............... (step 3 of 3) Processing clf, total=   7.8s\n",
            "[CV] ..................... clf__penalty=l2, score=0.797, total=   8.9s\n",
            "[CV] clf__penalty=l2 .................................................\n",
            "[Pipeline] .............. (step 1 of 3) Processing vect, total=   0.9s\n",
            "[Pipeline] ............... (step 2 of 3) Processing scl, total=   0.1s\n",
            "[Pipeline] ............... (step 3 of 3) Processing clf, total=   7.8s\n",
            "[CV] ..................... clf__penalty=l2, score=0.806, total=   8.9s\n",
            "[CV] clf__penalty=l2 .................................................\n",
            "[Pipeline] .............. (step 1 of 3) Processing vect, total=   0.9s\n",
            "[Pipeline] ............... (step 2 of 3) Processing scl, total=   0.1s\n",
            "[Pipeline] ............... (step 3 of 3) Processing clf, total=   8.3s\n",
            "[CV] ..................... clf__penalty=l2, score=0.797, total=   9.4s\n",
            "[CV] clf__penalty=l1 .................................................\n",
            "[Pipeline] .............. (step 1 of 3) Processing vect, total=   0.9s\n",
            "[Pipeline] ............... (step 2 of 3) Processing scl, total=   0.1s\n"
          ],
          "name": "stdout"
        },
        {
          "output_type": "stream",
          "text": [
            "/usr/local/lib/python3.6/dist-packages/sklearn/linear_model/_stochastic_gradient.py:557: ConvergenceWarning: Maximum number of iteration reached before convergence. Consider increasing max_iter to improve the fit.\n",
            "  ConvergenceWarning)\n"
          ],
          "name": "stderr"
        },
        {
          "output_type": "stream",
          "text": [
            "[Pipeline] ............... (step 3 of 3) Processing clf, total= 1.4min\n",
            "[CV] ..................... clf__penalty=l1, score=0.800, total= 1.4min\n",
            "[CV] clf__penalty=l1 .................................................\n",
            "[Pipeline] .............. (step 1 of 3) Processing vect, total=   1.0s\n",
            "[Pipeline] ............... (step 2 of 3) Processing scl, total=   0.1s\n"
          ],
          "name": "stdout"
        },
        {
          "output_type": "stream",
          "text": [
            "/usr/local/lib/python3.6/dist-packages/sklearn/linear_model/_stochastic_gradient.py:557: ConvergenceWarning: Maximum number of iteration reached before convergence. Consider increasing max_iter to improve the fit.\n",
            "  ConvergenceWarning)\n"
          ],
          "name": "stderr"
        },
        {
          "output_type": "stream",
          "text": [
            "[Pipeline] ............... (step 3 of 3) Processing clf, total= 1.9min\n",
            "[CV] ..................... clf__penalty=l1, score=0.809, total= 1.9min\n",
            "[CV] clf__penalty=l1 .................................................\n",
            "[Pipeline] .............. (step 1 of 3) Processing vect, total=   1.0s\n",
            "[Pipeline] ............... (step 2 of 3) Processing scl, total=   0.1s\n"
          ],
          "name": "stdout"
        },
        {
          "output_type": "stream",
          "text": [
            "/usr/local/lib/python3.6/dist-packages/sklearn/linear_model/_stochastic_gradient.py:557: ConvergenceWarning: Maximum number of iteration reached before convergence. Consider increasing max_iter to improve the fit.\n",
            "  ConvergenceWarning)\n"
          ],
          "name": "stderr"
        },
        {
          "output_type": "stream",
          "text": [
            "[Pipeline] ............... (step 3 of 3) Processing clf, total= 1.8min\n",
            "[CV] ..................... clf__penalty=l1, score=0.818, total= 1.8min\n",
            "[CV] clf__penalty=l1 .................................................\n",
            "[Pipeline] .............. (step 1 of 3) Processing vect, total=   1.0s\n",
            "[Pipeline] ............... (step 2 of 3) Processing scl, total=   0.1s\n"
          ],
          "name": "stdout"
        },
        {
          "output_type": "stream",
          "text": [
            "/usr/local/lib/python3.6/dist-packages/sklearn/linear_model/_stochastic_gradient.py:557: ConvergenceWarning: Maximum number of iteration reached before convergence. Consider increasing max_iter to improve the fit.\n",
            "  ConvergenceWarning)\n"
          ],
          "name": "stderr"
        },
        {
          "output_type": "stream",
          "text": [
            "[Pipeline] ............... (step 3 of 3) Processing clf, total= 1.7min\n",
            "[CV] ..................... clf__penalty=l1, score=0.818, total= 1.8min\n",
            "[CV] clf__penalty=l1 .................................................\n",
            "[Pipeline] .............. (step 1 of 3) Processing vect, total=   1.0s\n",
            "[Pipeline] ............... (step 2 of 3) Processing scl, total=   0.1s\n",
            "[Pipeline] ............... (step 3 of 3) Processing clf, total= 1.7min\n",
            "[CV] ..................... clf__penalty=l1, score=0.812, total= 1.8min\n",
            "[CV] clf__penalty=l1 .................................................\n",
            "[Pipeline] .............. (step 1 of 3) Processing vect, total=   0.9s\n",
            "[Pipeline] ............... (step 2 of 3) Processing scl, total=   0.1s\n"
          ],
          "name": "stdout"
        },
        {
          "output_type": "stream",
          "text": [
            "/usr/local/lib/python3.6/dist-packages/sklearn/linear_model/_stochastic_gradient.py:557: ConvergenceWarning: Maximum number of iteration reached before convergence. Consider increasing max_iter to improve the fit.\n",
            "  ConvergenceWarning)\n"
          ],
          "name": "stderr"
        },
        {
          "output_type": "stream",
          "text": [
            "[Pipeline] ............... (step 3 of 3) Processing clf, total= 1.8min\n",
            "[CV] ..................... clf__penalty=l1, score=0.813, total= 1.8min\n",
            "[CV] clf__penalty=l1 .................................................\n",
            "[Pipeline] .............. (step 1 of 3) Processing vect, total=   0.9s\n",
            "[Pipeline] ............... (step 2 of 3) Processing scl, total=   0.1s\n"
          ],
          "name": "stdout"
        },
        {
          "output_type": "stream",
          "text": [
            "/usr/local/lib/python3.6/dist-packages/sklearn/linear_model/_stochastic_gradient.py:557: ConvergenceWarning: Maximum number of iteration reached before convergence. Consider increasing max_iter to improve the fit.\n",
            "  ConvergenceWarning)\n"
          ],
          "name": "stderr"
        },
        {
          "output_type": "stream",
          "text": [
            "[Pipeline] ............... (step 3 of 3) Processing clf, total= 1.6min\n",
            "[CV] ..................... clf__penalty=l1, score=0.807, total= 1.6min\n",
            "[CV] clf__penalty=l1 .................................................\n",
            "[Pipeline] .............. (step 1 of 3) Processing vect, total=   1.0s\n",
            "[Pipeline] ............... (step 2 of 3) Processing scl, total=   0.1s\n"
          ],
          "name": "stdout"
        },
        {
          "output_type": "stream",
          "text": [
            "/usr/local/lib/python3.6/dist-packages/sklearn/linear_model/_stochastic_gradient.py:557: ConvergenceWarning: Maximum number of iteration reached before convergence. Consider increasing max_iter to improve the fit.\n",
            "  ConvergenceWarning)\n"
          ],
          "name": "stderr"
        },
        {
          "output_type": "stream",
          "text": [
            "[Pipeline] ............... (step 3 of 3) Processing clf, total= 2.0min\n",
            "[CV] ..................... clf__penalty=l1, score=0.803, total= 2.0min\n",
            "[CV] clf__penalty=l1 .................................................\n",
            "[Pipeline] .............. (step 1 of 3) Processing vect, total=   1.0s\n",
            "[Pipeline] ............... (step 2 of 3) Processing scl, total=   0.1s\n"
          ],
          "name": "stdout"
        },
        {
          "output_type": "stream",
          "text": [
            "/usr/local/lib/python3.6/dist-packages/sklearn/linear_model/_stochastic_gradient.py:557: ConvergenceWarning: Maximum number of iteration reached before convergence. Consider increasing max_iter to improve the fit.\n",
            "  ConvergenceWarning)\n"
          ],
          "name": "stderr"
        },
        {
          "output_type": "stream",
          "text": [
            "[Pipeline] ............... (step 3 of 3) Processing clf, total= 1.8min\n",
            "[CV] ..................... clf__penalty=l1, score=0.815, total= 1.8min\n",
            "[CV] clf__penalty=l1 .................................................\n",
            "[Pipeline] .............. (step 1 of 3) Processing vect, total=   1.0s\n",
            "[Pipeline] ............... (step 2 of 3) Processing scl, total=   0.1s\n"
          ],
          "name": "stdout"
        },
        {
          "output_type": "stream",
          "text": [
            "/usr/local/lib/python3.6/dist-packages/sklearn/linear_model/_stochastic_gradient.py:557: ConvergenceWarning: Maximum number of iteration reached before convergence. Consider increasing max_iter to improve the fit.\n",
            "  ConvergenceWarning)\n"
          ],
          "name": "stderr"
        },
        {
          "output_type": "stream",
          "text": [
            "[Pipeline] ............... (step 3 of 3) Processing clf, total= 1.6min\n",
            "[CV] ..................... clf__penalty=l1, score=0.799, total= 1.7min\n",
            "[CV] clf__penalty=elasticnet .........................................\n",
            "[Pipeline] .............. (step 1 of 3) Processing vect, total=   0.9s\n",
            "[Pipeline] ............... (step 2 of 3) Processing scl, total=   0.1s\n",
            "[Pipeline] ............... (step 3 of 3) Processing clf, total=  13.1s\n",
            "[CV] ............. clf__penalty=elasticnet, score=0.786, total=  14.3s\n",
            "[CV] clf__penalty=elasticnet .........................................\n",
            "[Pipeline] .............. (step 1 of 3) Processing vect, total=   0.9s\n",
            "[Pipeline] ............... (step 2 of 3) Processing scl, total=   0.1s\n",
            "[Pipeline] ............... (step 3 of 3) Processing clf, total=  13.2s\n",
            "[CV] ............. clf__penalty=elasticnet, score=0.814, total=  14.4s\n",
            "[CV] clf__penalty=elasticnet .........................................\n",
            "[Pipeline] .............. (step 1 of 3) Processing vect, total=   0.9s\n",
            "[Pipeline] ............... (step 2 of 3) Processing scl, total=   0.1s\n",
            "[Pipeline] ............... (step 3 of 3) Processing clf, total=  13.7s\n",
            "[CV] ............. clf__penalty=elasticnet, score=0.817, total=  14.9s\n",
            "[CV] clf__penalty=elasticnet .........................................\n",
            "[Pipeline] .............. (step 1 of 3) Processing vect, total=   0.9s\n",
            "[Pipeline] ............... (step 2 of 3) Processing scl, total=   0.1s\n",
            "[Pipeline] ............... (step 3 of 3) Processing clf, total=  12.9s\n",
            "[CV] ............. clf__penalty=elasticnet, score=0.822, total=  14.1s\n",
            "[CV] clf__penalty=elasticnet .........................................\n",
            "[Pipeline] .............. (step 1 of 3) Processing vect, total=   0.9s\n",
            "[Pipeline] ............... (step 2 of 3) Processing scl, total=   0.1s\n",
            "[Pipeline] ............... (step 3 of 3) Processing clf, total=  13.6s\n",
            "[CV] ............. clf__penalty=elasticnet, score=0.809, total=  14.7s\n",
            "[CV] clf__penalty=elasticnet .........................................\n",
            "[Pipeline] .............. (step 1 of 3) Processing vect, total=   1.0s\n",
            "[Pipeline] ............... (step 2 of 3) Processing scl, total=   0.1s\n",
            "[Pipeline] ............... (step 3 of 3) Processing clf, total=  12.5s\n",
            "[CV] ............. clf__penalty=elasticnet, score=0.819, total=  13.6s\n",
            "[CV] clf__penalty=elasticnet .........................................\n",
            "[Pipeline] .............. (step 1 of 3) Processing vect, total=   0.9s\n",
            "[Pipeline] ............... (step 2 of 3) Processing scl, total=   0.1s\n",
            "[Pipeline] ............... (step 3 of 3) Processing clf, total=  13.4s\n",
            "[CV] ............. clf__penalty=elasticnet, score=0.801, total=  14.5s\n",
            "[CV] clf__penalty=elasticnet .........................................\n",
            "[Pipeline] .............. (step 1 of 3) Processing vect, total=   0.9s\n",
            "[Pipeline] ............... (step 2 of 3) Processing scl, total=   0.1s\n",
            "[Pipeline] ............... (step 3 of 3) Processing clf, total=  12.6s\n",
            "[CV] ............. clf__penalty=elasticnet, score=0.803, total=  13.7s\n",
            "[CV] clf__penalty=elasticnet .........................................\n",
            "[Pipeline] .............. (step 1 of 3) Processing vect, total=   0.9s\n",
            "[Pipeline] ............... (step 2 of 3) Processing scl, total=   0.1s\n",
            "[Pipeline] ............... (step 3 of 3) Processing clf, total=  13.4s\n",
            "[CV] ............. clf__penalty=elasticnet, score=0.813, total=  14.5s\n",
            "[CV] clf__penalty=elasticnet .........................................\n",
            "[Pipeline] .............. (step 1 of 3) Processing vect, total=   0.9s\n",
            "[Pipeline] ............... (step 2 of 3) Processing scl, total=   0.1s\n",
            "[Pipeline] ............... (step 3 of 3) Processing clf, total=  13.0s\n",
            "[CV] ............. clf__penalty=elasticnet, score=0.798, total=  14.1s\n",
            "[CV] clf__learning_rate=optimal ......................................\n",
            "[Pipeline] .............. (step 1 of 3) Processing vect, total=   0.9s\n",
            "[Pipeline] ............... (step 2 of 3) Processing scl, total=   0.1s\n",
            "[Pipeline] ............... (step 3 of 3) Processing clf, total=   7.4s\n",
            "[CV] .......... clf__learning_rate=optimal, score=0.794, total=   8.6s\n",
            "[CV] clf__learning_rate=optimal ......................................\n",
            "[Pipeline] .............. (step 1 of 3) Processing vect, total=   0.9s\n",
            "[Pipeline] ............... (step 2 of 3) Processing scl, total=   0.1s\n",
            "[Pipeline] ............... (step 3 of 3) Processing clf, total=   7.6s\n",
            "[CV] .......... clf__learning_rate=optimal, score=0.804, total=   8.7s\n",
            "[CV] clf__learning_rate=optimal ......................................\n",
            "[Pipeline] .............. (step 1 of 3) Processing vect, total=   1.0s\n",
            "[Pipeline] ............... (step 2 of 3) Processing scl, total=   0.1s\n",
            "[Pipeline] ............... (step 3 of 3) Processing clf, total=   8.1s\n",
            "[CV] .......... clf__learning_rate=optimal, score=0.820, total=   9.3s\n",
            "[CV] clf__learning_rate=optimal ......................................\n",
            "[Pipeline] .............. (step 1 of 3) Processing vect, total=   1.0s\n",
            "[Pipeline] ............... (step 2 of 3) Processing scl, total=   0.1s\n",
            "[Pipeline] ............... (step 3 of 3) Processing clf, total=   7.6s\n",
            "[CV] .......... clf__learning_rate=optimal, score=0.814, total=   8.8s\n",
            "[CV] clf__learning_rate=optimal ......................................\n",
            "[Pipeline] .............. (step 1 of 3) Processing vect, total=   0.9s\n",
            "[Pipeline] ............... (step 2 of 3) Processing scl, total=   0.1s\n",
            "[Pipeline] ............... (step 3 of 3) Processing clf, total=   7.1s\n",
            "[CV] .......... clf__learning_rate=optimal, score=0.802, total=   8.2s\n",
            "[CV] clf__learning_rate=optimal ......................................\n",
            "[Pipeline] .............. (step 1 of 3) Processing vect, total=   0.9s\n",
            "[Pipeline] ............... (step 2 of 3) Processing scl, total=   0.1s\n",
            "[Pipeline] ............... (step 3 of 3) Processing clf, total=   7.0s\n",
            "[CV] .......... clf__learning_rate=optimal, score=0.814, total=   8.1s\n",
            "[CV] clf__learning_rate=optimal ......................................\n",
            "[Pipeline] .............. (step 1 of 3) Processing vect, total=   1.0s\n",
            "[Pipeline] ............... (step 2 of 3) Processing scl, total=   0.1s\n",
            "[Pipeline] ............... (step 3 of 3) Processing clf, total=   7.1s\n",
            "[CV] .......... clf__learning_rate=optimal, score=0.799, total=   8.3s\n",
            "[CV] clf__learning_rate=optimal ......................................\n",
            "[Pipeline] .............. (step 1 of 3) Processing vect, total=   1.0s\n",
            "[Pipeline] ............... (step 2 of 3) Processing scl, total=   0.1s\n",
            "[Pipeline] ............... (step 3 of 3) Processing clf, total=   7.1s\n",
            "[CV] .......... clf__learning_rate=optimal, score=0.797, total=   8.3s\n",
            "[CV] clf__learning_rate=optimal ......................................\n",
            "[Pipeline] .............. (step 1 of 3) Processing vect, total=   0.9s\n",
            "[Pipeline] ............... (step 2 of 3) Processing scl, total=   0.1s\n",
            "[Pipeline] ............... (step 3 of 3) Processing clf, total=   7.9s\n",
            "[CV] .......... clf__learning_rate=optimal, score=0.808, total=   9.0s\n",
            "[CV] clf__learning_rate=optimal ......................................\n",
            "[Pipeline] .............. (step 1 of 3) Processing vect, total=   1.0s\n",
            "[Pipeline] ............... (step 2 of 3) Processing scl, total=   0.1s\n",
            "[Pipeline] ............... (step 3 of 3) Processing clf, total=   7.5s\n",
            "[CV] .......... clf__learning_rate=optimal, score=0.795, total=   8.7s\n"
          ],
          "name": "stdout"
        },
        {
          "output_type": "stream",
          "text": [
            "[Parallel(n_jobs=1)]: Done 120 out of 120 | elapsed: 44.2min finished\n"
          ],
          "name": "stderr"
        },
        {
          "output_type": "stream",
          "text": [
            "[Pipeline] .............. (step 1 of 3) Processing vect, total=   3.2s\n",
            "[Pipeline] ............... (step 2 of 3) Processing scl, total=   0.3s\n",
            "[Pipeline] ............... (step 3 of 3) Processing clf, total=  19.8s\n",
            "0.8417846272524777\n",
            "{'vect__ngram_range': (1, 2)}\n"
          ],
          "name": "stdout"
        }
      ]
    },
    {
      "cell_type": "code",
      "metadata": {
        "id": "NoU8wj2OOy9M",
        "outputId": "fc0e23cb-f350-4d54-9cce-9d1e09d15dce",
        "colab": {
          "base_uri": "https://localhost:8080/",
          "height": 1000
        }
      },
      "source": [
        "## Multinomial Naive Bayes Pipeline\n",
        "pipe_mnb = Pipeline([(\"vect\", CountVectorizer(#ngram_range=(1, 2),\n",
        "                                                token_pattern = r\"(?u)\\b\\w+\\b\",\n",
        "                                                analyzer='char')),\n",
        "                     ('scl', StandardScaler(with_mean=False)),\n",
        "                     ('clf', MultinomialNB())], verbose=True)\n",
        "\n",
        "\n",
        "ngram_range = [(1,1), (1,2), (1,3), (1,4)]\n",
        "\n",
        "param_grid = [{\"vect__ngram_range\": ngram_range},\n",
        "              #{\"clf__loss\": [\"hinge\", \"log\", \"squared_hinge\", \"perceptron\"]},\n",
        "              #{\"clf__penalty\": [\"l2\", \"l1\", \"elasticnet\"]},\n",
        "              #{\"clf__learning_rate\": [\"optimal\"]}\n",
        "              ]\n",
        "\n",
        "\n",
        "gs_2 = GridSearchCV(estimator=pipe_mnb, \n",
        "                  param_grid=param_grid, \n",
        "                  scoring='accuracy',\n",
        "                  cv=10,\n",
        "                  n_jobs=1,\n",
        "                 verbose=10)\n",
        "\n",
        "gs_2 = gs_2.fit(X_train, y_train)\n",
        "print(gs_2.best_score_)\n",
        "\n",
        "print(gs_2.best_params_)"
      ],
      "execution_count": 31,
      "outputs": [
        {
          "output_type": "stream",
          "text": [
            "Fitting 10 folds for each of 4 candidates, totalling 40 fits\n",
            "[CV] vect__ngram_range=(1, 1) ........................................\n"
          ],
          "name": "stdout"
        },
        {
          "output_type": "stream",
          "text": [
            "[Parallel(n_jobs=1)]: Using backend SequentialBackend with 1 concurrent workers.\n"
          ],
          "name": "stderr"
        },
        {
          "output_type": "stream",
          "text": [
            "[Pipeline] .............. (step 1 of 3) Processing vect, total=   1.0s\n",
            "[Pipeline] ............... (step 2 of 3) Processing scl, total=   0.1s\n",
            "[Pipeline] ............... (step 3 of 3) Processing clf, total=   0.2s\n",
            "[CV] ............ vect__ngram_range=(1, 1), score=0.704, total=   1.4s\n",
            "[CV] vect__ngram_range=(1, 1) ........................................\n"
          ],
          "name": "stdout"
        },
        {
          "output_type": "stream",
          "text": [
            "[Parallel(n_jobs=1)]: Done   1 out of   1 | elapsed:    1.4s remaining:    0.0s\n"
          ],
          "name": "stderr"
        },
        {
          "output_type": "stream",
          "text": [
            "[Pipeline] .............. (step 1 of 3) Processing vect, total=   1.0s\n",
            "[Pipeline] ............... (step 2 of 3) Processing scl, total=   0.1s\n",
            "[Pipeline] ............... (step 3 of 3) Processing clf, total=   0.2s\n",
            "[CV] ............ vect__ngram_range=(1, 1), score=0.687, total=   1.4s\n",
            "[CV] vect__ngram_range=(1, 1) ........................................\n"
          ],
          "name": "stdout"
        },
        {
          "output_type": "stream",
          "text": [
            "[Parallel(n_jobs=1)]: Done   2 out of   2 | elapsed:    2.8s remaining:    0.0s\n"
          ],
          "name": "stderr"
        },
        {
          "output_type": "stream",
          "text": [
            "[Pipeline] .............. (step 1 of 3) Processing vect, total=   1.0s\n",
            "[Pipeline] ............... (step 2 of 3) Processing scl, total=   0.1s\n",
            "[Pipeline] ............... (step 3 of 3) Processing clf, total=   0.2s\n",
            "[CV] ............ vect__ngram_range=(1, 1), score=0.708, total=   1.4s\n",
            "[CV] vect__ngram_range=(1, 1) ........................................\n"
          ],
          "name": "stdout"
        },
        {
          "output_type": "stream",
          "text": [
            "[Parallel(n_jobs=1)]: Done   3 out of   3 | elapsed:    4.1s remaining:    0.0s\n"
          ],
          "name": "stderr"
        },
        {
          "output_type": "stream",
          "text": [
            "[Pipeline] .............. (step 1 of 3) Processing vect, total=   1.0s\n",
            "[Pipeline] ............... (step 2 of 3) Processing scl, total=   0.1s\n",
            "[Pipeline] ............... (step 3 of 3) Processing clf, total=   0.2s\n",
            "[CV] ............ vect__ngram_range=(1, 1), score=0.702, total=   1.4s\n",
            "[CV] vect__ngram_range=(1, 1) ........................................\n"
          ],
          "name": "stdout"
        },
        {
          "output_type": "stream",
          "text": [
            "[Parallel(n_jobs=1)]: Done   4 out of   4 | elapsed:    5.5s remaining:    0.0s\n"
          ],
          "name": "stderr"
        },
        {
          "output_type": "stream",
          "text": [
            "[Pipeline] .............. (step 1 of 3) Processing vect, total=   1.0s\n",
            "[Pipeline] ............... (step 2 of 3) Processing scl, total=   0.1s\n",
            "[Pipeline] ............... (step 3 of 3) Processing clf, total=   0.2s\n",
            "[CV] ............ vect__ngram_range=(1, 1), score=0.697, total=   1.4s\n",
            "[CV] vect__ngram_range=(1, 1) ........................................\n"
          ],
          "name": "stdout"
        },
        {
          "output_type": "stream",
          "text": [
            "[Parallel(n_jobs=1)]: Done   5 out of   5 | elapsed:    6.9s remaining:    0.0s\n"
          ],
          "name": "stderr"
        },
        {
          "output_type": "stream",
          "text": [
            "[Pipeline] .............. (step 1 of 3) Processing vect, total=   1.0s\n",
            "[Pipeline] ............... (step 2 of 3) Processing scl, total=   0.1s\n",
            "[Pipeline] ............... (step 3 of 3) Processing clf, total=   0.2s\n",
            "[CV] ............ vect__ngram_range=(1, 1), score=0.699, total=   1.4s\n",
            "[CV] vect__ngram_range=(1, 1) ........................................\n"
          ],
          "name": "stdout"
        },
        {
          "output_type": "stream",
          "text": [
            "[Parallel(n_jobs=1)]: Done   6 out of   6 | elapsed:    8.3s remaining:    0.0s\n"
          ],
          "name": "stderr"
        },
        {
          "output_type": "stream",
          "text": [
            "[Pipeline] .............. (step 1 of 3) Processing vect, total=   1.0s\n",
            "[Pipeline] ............... (step 2 of 3) Processing scl, total=   0.1s\n",
            "[Pipeline] ............... (step 3 of 3) Processing clf, total=   0.2s\n",
            "[CV] ............ vect__ngram_range=(1, 1), score=0.695, total=   1.4s\n",
            "[CV] vect__ngram_range=(1, 1) ........................................\n"
          ],
          "name": "stdout"
        },
        {
          "output_type": "stream",
          "text": [
            "[Parallel(n_jobs=1)]: Done   7 out of   7 | elapsed:    9.7s remaining:    0.0s\n"
          ],
          "name": "stderr"
        },
        {
          "output_type": "stream",
          "text": [
            "[Pipeline] .............. (step 1 of 3) Processing vect, total=   1.0s\n",
            "[Pipeline] ............... (step 2 of 3) Processing scl, total=   0.1s\n",
            "[Pipeline] ............... (step 3 of 3) Processing clf, total=   0.2s\n",
            "[CV] ............ vect__ngram_range=(1, 1), score=0.696, total=   1.4s\n",
            "[CV] vect__ngram_range=(1, 1) ........................................\n"
          ],
          "name": "stdout"
        },
        {
          "output_type": "stream",
          "text": [
            "[Parallel(n_jobs=1)]: Done   8 out of   8 | elapsed:   11.0s remaining:    0.0s\n"
          ],
          "name": "stderr"
        },
        {
          "output_type": "stream",
          "text": [
            "[Pipeline] .............. (step 1 of 3) Processing vect, total=   1.0s\n",
            "[Pipeline] ............... (step 2 of 3) Processing scl, total=   0.1s\n",
            "[Pipeline] ............... (step 3 of 3) Processing clf, total=   0.2s\n",
            "[CV] ............ vect__ngram_range=(1, 1), score=0.704, total=   1.4s\n",
            "[CV] vect__ngram_range=(1, 1) ........................................\n"
          ],
          "name": "stdout"
        },
        {
          "output_type": "stream",
          "text": [
            "[Parallel(n_jobs=1)]: Done   9 out of   9 | elapsed:   12.4s remaining:    0.0s\n"
          ],
          "name": "stderr"
        },
        {
          "output_type": "stream",
          "text": [
            "[Pipeline] .............. (step 1 of 3) Processing vect, total=   0.9s\n",
            "[Pipeline] ............... (step 2 of 3) Processing scl, total=   0.1s\n",
            "[Pipeline] ............... (step 3 of 3) Processing clf, total=   0.2s\n",
            "[CV] ............ vect__ngram_range=(1, 1), score=0.695, total=   1.4s\n",
            "[CV] vect__ngram_range=(1, 2) ........................................\n",
            "[Pipeline] .............. (step 1 of 3) Processing vect, total=   2.7s\n",
            "[Pipeline] ............... (step 2 of 3) Processing scl, total=   0.2s\n",
            "[Pipeline] ............... (step 3 of 3) Processing clf, total=   0.4s\n",
            "[CV] ............ vect__ngram_range=(1, 2), score=0.801, total=   3.8s\n",
            "[CV] vect__ngram_range=(1, 2) ........................................\n",
            "[Pipeline] .............. (step 1 of 3) Processing vect, total=   2.7s\n",
            "[Pipeline] ............... (step 2 of 3) Processing scl, total=   0.2s\n",
            "[Pipeline] ............... (step 3 of 3) Processing clf, total=   0.4s\n",
            "[CV] ............ vect__ngram_range=(1, 2), score=0.799, total=   3.7s\n",
            "[CV] vect__ngram_range=(1, 2) ........................................\n",
            "[Pipeline] .............. (step 1 of 3) Processing vect, total=   2.8s\n",
            "[Pipeline] ............... (step 2 of 3) Processing scl, total=   0.2s\n",
            "[Pipeline] ............... (step 3 of 3) Processing clf, total=   0.4s\n",
            "[CV] ............ vect__ngram_range=(1, 2), score=0.811, total=   3.8s\n",
            "[CV] vect__ngram_range=(1, 2) ........................................\n",
            "[Pipeline] .............. (step 1 of 3) Processing vect, total=   2.7s\n",
            "[Pipeline] ............... (step 2 of 3) Processing scl, total=   0.2s\n",
            "[Pipeline] ............... (step 3 of 3) Processing clf, total=   0.4s\n",
            "[CV] ............ vect__ngram_range=(1, 2), score=0.801, total=   3.7s\n",
            "[CV] vect__ngram_range=(1, 2) ........................................\n",
            "[Pipeline] .............. (step 1 of 3) Processing vect, total=   2.8s\n",
            "[Pipeline] ............... (step 2 of 3) Processing scl, total=   0.2s\n",
            "[Pipeline] ............... (step 3 of 3) Processing clf, total=   0.4s\n",
            "[CV] ............ vect__ngram_range=(1, 2), score=0.807, total=   3.8s\n",
            "[CV] vect__ngram_range=(1, 2) ........................................\n",
            "[Pipeline] .............. (step 1 of 3) Processing vect, total=   2.7s\n",
            "[Pipeline] ............... (step 2 of 3) Processing scl, total=   0.2s\n",
            "[Pipeline] ............... (step 3 of 3) Processing clf, total=   0.4s\n",
            "[CV] ............ vect__ngram_range=(1, 2), score=0.803, total=   3.7s\n",
            "[CV] vect__ngram_range=(1, 2) ........................................\n",
            "[Pipeline] .............. (step 1 of 3) Processing vect, total=   2.7s\n",
            "[Pipeline] ............... (step 2 of 3) Processing scl, total=   0.2s\n",
            "[Pipeline] ............... (step 3 of 3) Processing clf, total=   0.4s\n",
            "[CV] ............ vect__ngram_range=(1, 2), score=0.805, total=   3.7s\n",
            "[CV] vect__ngram_range=(1, 2) ........................................\n",
            "[Pipeline] .............. (step 1 of 3) Processing vect, total=   2.8s\n",
            "[Pipeline] ............... (step 2 of 3) Processing scl, total=   0.2s\n",
            "[Pipeline] ............... (step 3 of 3) Processing clf, total=   0.4s\n",
            "[CV] ............ vect__ngram_range=(1, 2), score=0.799, total=   3.8s\n",
            "[CV] vect__ngram_range=(1, 2) ........................................\n",
            "[Pipeline] .............. (step 1 of 3) Processing vect, total=   2.8s\n",
            "[Pipeline] ............... (step 2 of 3) Processing scl, total=   0.2s\n",
            "[Pipeline] ............... (step 3 of 3) Processing clf, total=   0.4s\n",
            "[CV] ............ vect__ngram_range=(1, 2), score=0.808, total=   3.8s\n",
            "[CV] vect__ngram_range=(1, 2) ........................................\n",
            "[Pipeline] .............. (step 1 of 3) Processing vect, total=   2.8s\n",
            "[Pipeline] ............... (step 2 of 3) Processing scl, total=   0.2s\n",
            "[Pipeline] ............... (step 3 of 3) Processing clf, total=   0.4s\n",
            "[CV] ............ vect__ngram_range=(1, 2), score=0.799, total=   3.8s\n",
            "[CV] vect__ngram_range=(1, 3) ........................................\n",
            "[Pipeline] .............. (step 1 of 3) Processing vect, total=   5.9s\n",
            "[Pipeline] ............... (step 2 of 3) Processing scl, total=   0.5s\n",
            "[Pipeline] ............... (step 3 of 3) Processing clf, total=   1.1s\n",
            "[CV] ............ vect__ngram_range=(1, 3), score=0.771, total=   8.2s\n",
            "[CV] vect__ngram_range=(1, 3) ........................................\n",
            "[Pipeline] .............. (step 1 of 3) Processing vect, total=   5.9s\n",
            "[Pipeline] ............... (step 2 of 3) Processing scl, total=   0.5s\n",
            "[Pipeline] ............... (step 3 of 3) Processing clf, total=   0.9s\n",
            "[CV] ............ vect__ngram_range=(1, 3), score=0.783, total=   7.9s\n",
            "[CV] vect__ngram_range=(1, 3) ........................................\n",
            "[Pipeline] .............. (step 1 of 3) Processing vect, total=   6.0s\n",
            "[Pipeline] ............... (step 2 of 3) Processing scl, total=   0.5s\n",
            "[Pipeline] ............... (step 3 of 3) Processing clf, total=   0.9s\n",
            "[CV] ............ vect__ngram_range=(1, 3), score=0.791, total=   8.1s\n",
            "[CV] vect__ngram_range=(1, 3) ........................................\n",
            "[Pipeline] .............. (step 1 of 3) Processing vect, total=   6.0s\n",
            "[Pipeline] ............... (step 2 of 3) Processing scl, total=   0.5s\n",
            "[Pipeline] ............... (step 3 of 3) Processing clf, total=   1.0s\n",
            "[CV] ............ vect__ngram_range=(1, 3), score=0.785, total=   8.2s\n",
            "[CV] vect__ngram_range=(1, 3) ........................................\n",
            "[Pipeline] .............. (step 1 of 3) Processing vect, total=   5.9s\n",
            "[Pipeline] ............... (step 2 of 3) Processing scl, total=   0.5s\n",
            "[Pipeline] ............... (step 3 of 3) Processing clf, total=   0.9s\n",
            "[CV] ............ vect__ngram_range=(1, 3), score=0.792, total=   7.9s\n",
            "[CV] vect__ngram_range=(1, 3) ........................................\n",
            "[Pipeline] .............. (step 1 of 3) Processing vect, total=   5.9s\n",
            "[Pipeline] ............... (step 2 of 3) Processing scl, total=   0.5s\n",
            "[Pipeline] ............... (step 3 of 3) Processing clf, total=   0.9s\n",
            "[CV] ............ vect__ngram_range=(1, 3), score=0.782, total=   7.9s\n",
            "[CV] vect__ngram_range=(1, 3) ........................................\n",
            "[Pipeline] .............. (step 1 of 3) Processing vect, total=   5.9s\n",
            "[Pipeline] ............... (step 2 of 3) Processing scl, total=   0.5s\n",
            "[Pipeline] ............... (step 3 of 3) Processing clf, total=   0.9s\n",
            "[CV] ............ vect__ngram_range=(1, 3), score=0.788, total=   7.9s\n",
            "[CV] vect__ngram_range=(1, 3) ........................................\n",
            "[Pipeline] .............. (step 1 of 3) Processing vect, total=   6.0s\n",
            "[Pipeline] ............... (step 2 of 3) Processing scl, total=   0.5s\n",
            "[Pipeline] ............... (step 3 of 3) Processing clf, total=   0.9s\n",
            "[CV] ............ vect__ngram_range=(1, 3), score=0.790, total=   8.0s\n",
            "[CV] vect__ngram_range=(1, 3) ........................................\n",
            "[Pipeline] .............. (step 1 of 3) Processing vect, total=   6.0s\n",
            "[Pipeline] ............... (step 2 of 3) Processing scl, total=   0.5s\n",
            "[Pipeline] ............... (step 3 of 3) Processing clf, total=   0.9s\n",
            "[CV] ............ vect__ngram_range=(1, 3), score=0.788, total=   8.1s\n",
            "[CV] vect__ngram_range=(1, 3) ........................................\n",
            "[Pipeline] .............. (step 1 of 3) Processing vect, total=   6.0s\n",
            "[Pipeline] ............... (step 2 of 3) Processing scl, total=   0.5s\n",
            "[Pipeline] ............... (step 3 of 3) Processing clf, total=   0.9s\n",
            "[CV] ............ vect__ngram_range=(1, 3), score=0.774, total=   8.0s\n",
            "[CV] vect__ngram_range=(1, 4) ........................................\n",
            "[Pipeline] .............. (step 1 of 3) Processing vect, total=  11.6s\n",
            "[Pipeline] ............... (step 2 of 3) Processing scl, total=   0.8s\n",
            "[Pipeline] ............... (step 3 of 3) Processing clf, total=   1.9s\n",
            "[CV] ............ vect__ngram_range=(1, 4), score=0.819, total=  15.4s\n",
            "[CV] vect__ngram_range=(1, 4) ........................................\n",
            "[Pipeline] .............. (step 1 of 3) Processing vect, total=  11.4s\n",
            "[Pipeline] ............... (step 2 of 3) Processing scl, total=   0.8s\n",
            "[Pipeline] ............... (step 3 of 3) Processing clf, total=   1.8s\n",
            "[CV] ............ vect__ngram_range=(1, 4), score=0.823, total=  15.0s\n",
            "[CV] vect__ngram_range=(1, 4) ........................................\n",
            "[Pipeline] .............. (step 1 of 3) Processing vect, total=  11.4s\n",
            "[Pipeline] ............... (step 2 of 3) Processing scl, total=   0.8s\n",
            "[Pipeline] ............... (step 3 of 3) Processing clf, total=   1.8s\n",
            "[CV] ............ vect__ngram_range=(1, 4), score=0.833, total=  15.1s\n",
            "[CV] vect__ngram_range=(1, 4) ........................................\n",
            "[Pipeline] .............. (step 1 of 3) Processing vect, total=  11.5s\n",
            "[Pipeline] ............... (step 2 of 3) Processing scl, total=   0.8s\n",
            "[Pipeline] ............... (step 3 of 3) Processing clf, total=   1.7s\n",
            "[CV] ............ vect__ngram_range=(1, 4), score=0.831, total=  15.1s\n",
            "[CV] vect__ngram_range=(1, 4) ........................................\n",
            "[Pipeline] .............. (step 1 of 3) Processing vect, total=  11.4s\n",
            "[Pipeline] ............... (step 2 of 3) Processing scl, total=   0.8s\n",
            "[Pipeline] ............... (step 3 of 3) Processing clf, total=   1.8s\n",
            "[CV] ............ vect__ngram_range=(1, 4), score=0.836, total=  15.1s\n",
            "[CV] vect__ngram_range=(1, 4) ........................................\n",
            "[Pipeline] .............. (step 1 of 3) Processing vect, total=  11.4s\n",
            "[Pipeline] ............... (step 2 of 3) Processing scl, total=   0.8s\n",
            "[Pipeline] ............... (step 3 of 3) Processing clf, total=   1.8s\n",
            "[CV] ............ vect__ngram_range=(1, 4), score=0.832, total=  15.0s\n",
            "[CV] vect__ngram_range=(1, 4) ........................................\n",
            "[Pipeline] .............. (step 1 of 3) Processing vect, total=  11.4s\n",
            "[Pipeline] ............... (step 2 of 3) Processing scl, total=   0.8s\n",
            "[Pipeline] ............... (step 3 of 3) Processing clf, total=   1.8s\n",
            "[CV] ............ vect__ngram_range=(1, 4), score=0.831, total=  15.1s\n",
            "[CV] vect__ngram_range=(1, 4) ........................................\n",
            "[Pipeline] .............. (step 1 of 3) Processing vect, total=  11.5s\n",
            "[Pipeline] ............... (step 2 of 3) Processing scl, total=   0.8s\n",
            "[Pipeline] ............... (step 3 of 3) Processing clf, total=   1.8s\n",
            "[CV] ............ vect__ngram_range=(1, 4), score=0.823, total=  15.1s\n",
            "[CV] vect__ngram_range=(1, 4) ........................................\n",
            "[Pipeline] .............. (step 1 of 3) Processing vect, total=  11.5s\n",
            "[Pipeline] ............... (step 2 of 3) Processing scl, total=   0.8s\n",
            "[Pipeline] ............... (step 3 of 3) Processing clf, total=   1.8s\n",
            "[CV] ............ vect__ngram_range=(1, 4), score=0.830, total=  15.1s\n",
            "[CV] vect__ngram_range=(1, 4) ........................................\n",
            "[Pipeline] .............. (step 1 of 3) Processing vect, total=  12.1s\n",
            "[Pipeline] ............... (step 2 of 3) Processing scl, total=   0.8s\n",
            "[Pipeline] ............... (step 3 of 3) Processing clf, total=   1.8s\n",
            "[CV] ............ vect__ngram_range=(1, 4), score=0.824, total=  15.8s\n"
          ],
          "name": "stdout"
        },
        {
          "output_type": "stream",
          "text": [
            "[Parallel(n_jobs=1)]: Done  40 out of  40 | elapsed:  4.7min finished\n"
          ],
          "name": "stderr"
        },
        {
          "output_type": "stream",
          "text": [
            "[Pipeline] .............. (step 1 of 3) Processing vect, total=  12.8s\n",
            "[Pipeline] ............... (step 2 of 3) Processing scl, total=   0.9s\n",
            "[Pipeline] ............... (step 3 of 3) Processing clf, total=   2.0s\n",
            "0.8282486698529359\n",
            "{'vect__ngram_range': (1, 4)}\n"
          ],
          "name": "stdout"
        }
      ]
    },
    {
      "cell_type": "code",
      "metadata": {
        "id": "qWfGwtZcOy9O",
        "outputId": "bd1cb826-2d4a-4709-9cbb-b5d9375082e2",
        "colab": {
          "base_uri": "https://localhost:8080/",
          "height": 1000
        }
      },
      "source": [
        "gs_2.__dict__"
      ],
      "execution_count": 33,
      "outputs": [
        {
          "output_type": "execute_result",
          "data": {
            "text/plain": [
              "{'best_estimator_': Pipeline(memory=None,\n",
              "          steps=[('vect',\n",
              "                  CountVectorizer(analyzer='char', binary=False,\n",
              "                                  decode_error='strict',\n",
              "                                  dtype=<class 'numpy.int64'>, encoding='utf-8',\n",
              "                                  input='content', lowercase=True, max_df=1.0,\n",
              "                                  max_features=None, min_df=1,\n",
              "                                  ngram_range=(1, 4), preprocessor=None,\n",
              "                                  stop_words=None, strip_accents=None,\n",
              "                                  token_pattern='(?u)\\\\b\\\\w+\\\\b', tokenizer=None,\n",
              "                                  vocabulary=None)),\n",
              "                 ('scl',\n",
              "                  StandardScaler(copy=True, with_mean=False, with_std=True)),\n",
              "                 ('clf',\n",
              "                  MultinomialNB(alpha=1.0, class_prior=None, fit_prior=True))],\n",
              "          verbose=True),\n",
              " 'best_index_': 3,\n",
              " 'best_params_': {'vect__ngram_range': (1, 4)},\n",
              " 'best_score_': 0.8282486698529359,\n",
              " 'cv': 10,\n",
              " 'cv_results_': {'mean_fit_time': array([ 1.25331786,  3.38188543,  7.33732934, 14.08311205]),\n",
              "  'mean_score_time': array([0.12137332, 0.36659784, 0.68629913, 1.08964138]),\n",
              "  'mean_test_score': array([0.6986805 , 0.80328425, 0.78426198, 0.82824867]),\n",
              "  'param_vect__ngram_range': masked_array(data=[(1, 1), (1, 2), (1, 3), (1, 4)],\n",
              "               mask=[False, False, False, False],\n",
              "         fill_value='?',\n",
              "              dtype=object),\n",
              "  'params': [{'vect__ngram_range': (1, 1)},\n",
              "   {'vect__ngram_range': (1, 2)},\n",
              "   {'vect__ngram_range': (1, 3)},\n",
              "   {'vect__ngram_range': (1, 4)}],\n",
              "  'rank_test_score': array([4, 2, 3, 1], dtype=int32),\n",
              "  'split0_test_score': array([0.70444191, 0.80125285, 0.77069096, 0.81890661]),\n",
              "  'split1_test_score': array([0.68716781, 0.79897494, 0.78321944, 0.82327259]),\n",
              "  'split2_test_score': array([0.70785877, 0.81112377, 0.79100228, 0.83276386]),\n",
              "  'split3_test_score': array([0.70159453, 0.80068337, 0.78492787, 0.83124525]),\n",
              "  'split4_test_score': array([0.69703872, 0.80656796, 0.79176158, 0.83637054]),\n",
              "  'split5_test_score': array([0.69925954, 0.802734  , 0.78203911, 0.8317828 ]),\n",
              "  'split6_test_score': array([0.69527245, 0.80482248, 0.78792481, 0.83102335]),\n",
              "  'split7_test_score': array([0.6960319 , 0.7993165 , 0.78963357, 0.82285931]),\n",
              "  'split8_test_score': array([0.70362635, 0.80805012, 0.78773495, 0.83045377]),\n",
              "  'split9_test_score': array([0.69451301, 0.7993165 , 0.77368521, 0.82380862]),\n",
              "  'std_fit_time': array([0.01013024, 0.01460768, 0.09087861, 0.23362528]),\n",
              "  'std_score_time': array([0.00332655, 0.00586639, 0.00874302, 0.02021802]),\n",
              "  'std_test_score': array([0.00567414, 0.00398209, 0.00677141, 0.00530262])},\n",
              " 'error_score': nan,\n",
              " 'estimator': Pipeline(memory=None,\n",
              "          steps=[('vect',\n",
              "                  CountVectorizer(analyzer='char', binary=False,\n",
              "                                  decode_error='strict',\n",
              "                                  dtype=<class 'numpy.int64'>, encoding='utf-8',\n",
              "                                  input='content', lowercase=True, max_df=1.0,\n",
              "                                  max_features=None, min_df=1,\n",
              "                                  ngram_range=(1, 1), preprocessor=None,\n",
              "                                  stop_words=None, strip_accents=None,\n",
              "                                  token_pattern='(?u)\\\\b\\\\w+\\\\b', tokenizer=None,\n",
              "                                  vocabulary=None)),\n",
              "                 ('scl',\n",
              "                  StandardScaler(copy=True, with_mean=False, with_std=True)),\n",
              "                 ('clf',\n",
              "                  MultinomialNB(alpha=1.0, class_prior=None, fit_prior=True))],\n",
              "          verbose=True),\n",
              " 'iid': 'deprecated',\n",
              " 'multimetric_': False,\n",
              " 'n_jobs': 1,\n",
              " 'n_splits_': 10,\n",
              " 'param_grid': [{'vect__ngram_range': [(1, 1), (1, 2), (1, 3), (1, 4)]}],\n",
              " 'pre_dispatch': '2*n_jobs',\n",
              " 'refit': True,\n",
              " 'refit_time_': 15.649303913116455,\n",
              " 'return_train_score': False,\n",
              " 'scorer_': make_scorer(accuracy_score),\n",
              " 'scoring': 'accuracy',\n",
              " 'verbose': 10}"
            ]
          },
          "metadata": {
            "tags": []
          },
          "execution_count": 33
        }
      ]
    },
    {
      "cell_type": "code",
      "metadata": {
        "id": "ZQZac0gzdV5M"
      },
      "source": [
        ""
      ],
      "execution_count": null,
      "outputs": []
    }
  ]
}